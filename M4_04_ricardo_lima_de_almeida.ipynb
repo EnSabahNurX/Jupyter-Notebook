{
 "cells": [
  {
   "cell_type": "markdown",
   "metadata": {},
   "source": [
    "# Exercícios Módulo 4. Unidade 4. Dados temporais (Soluções)\n",
    "\n",
    "Considerações a ter em conta:\n",
    "\n",
    "* Guardar este documento com o seguinte formato para entrega: __M4_04_nome_apelido1_apelido2__\n",
    "* Fazer os exercícios com as ferramentas vistas nas sessões. \n",
    "* Comentar o código\n",
    "* Utilizar nomes de variáveis apropriados, se vai guardar uma nota, chamar a essa variável nota, não n ou x"
   ]
  },
  {
   "cell_type": "markdown",
   "metadata": {},
   "source": [
    "**1)  Dadas as duas seguintes datas, que correspondem às datas de nascimento de dois irmãos (na zona horária de Europa/Lisbon), indica qual é a diferença entre eles em dias, horas, minutos e segundos**"
   ]
  },
  {
   "cell_type": "code",
   "execution_count": 108,
   "metadata": {},
   "outputs": [
    {
     "name": "stdout",
     "output_type": "stream",
     "text": [
      "A diferença do nascimento entre os dois irmãos são de 2440 dias, 0 horas, 35 minutos e 0 segundos\n",
      "Hoje o filho1 tem 37 anos.\n",
      "Hoje o filho2 tem 30 anos.\n"
     ]
    }
   ],
   "source": [
    "# Completar o exercício aqui\n",
    "from datetime import datetime\n",
    "import pytz\n",
    "\n",
    "filho1 = datetime(1985, 10, 20, 17, 55)\n",
    "filho2 = datetime(1992, 6, 25, 18, 30)\n",
    "\n",
    "\n",
    "# Completar o exercício aqui\n",
    "\n",
    "# utiliza o maior, que nasceu por último para fazer o cálculo sobre o menor que nasceu antes, do contrário o valor seria divergente o time, por isto o abs()\n",
    "def diferenca_entre_datas(dt1, dt2=datetime.now()):\n",
    "    diferenca = abs(dt1 - dt2)\n",
    "    diferenca_horas = diferenca.seconds//3600\n",
    "    diferenca_minutos = diferenca.seconds//60\n",
    "    diferenca_segundos = diferenca.seconds - \\\n",
    "        (diferenca_horas*3600) - (diferenca_minutos*60)\n",
    "    return f\"A diferença do nascimento entre os dois irmãos são de {diferenca.days} dias, {diferenca_horas} horas, {diferenca_minutos} minutos e {diferenca_segundos} segundos\"\n",
    "\n",
    "\n",
    "print(diferenca_entre_datas(filho1, filho2))\n",
    "\n",
    "lista_de_filhos = [filho1, filho2]\n",
    "\n",
    "# extra\n",
    "# verificando a idade de cada filho hoje\n",
    "# primeiro obtendo o nome de cada variavel, um truque com listas e laço de repetição\n",
    "for filho in lista_de_filhos:\n",
    "    nome_variavel = [iterador for iterador,\n",
    "                     elemento in locals().items() if elemento == filho][0]\n",
    "    print(\n",
    "        f\"Hoje o {nome_variavel} tem {int(abs(datetime.now() - filho).days//365.2425)} anos.\")\n"
   ]
  },
  {
   "cell_type": "markdown",
   "metadata": {},
   "source": [
    "**2) Criar uma função que se chame formato_data() que receba por parâmetro uma data do tipo datetime e nos devolva o seguinte formato: “20 de abril de 2020”.**\n",
    "\n",
    "**Em muitas ocasiões os nossos sistemas estão configurados de forma pré-determinada em inglês, e não se pode mudar a localidade para português. Portanto, temos que aprender a selecionar e mostrar os meses em português apesar do nosso sistema se encontrarem inglês ou noutro idioma.** \n",
    "\n",
    "**Criar uma tupla para armazenar a listagem de meses em português para poder selecionar o nome do mês adequado em função a uma data que lhe proporcionemos à função. Fica proibido de utilizar métodos como locale, setlocale ou strftime.**\n",
    "\n",
    "**Experimentar a função enviando-lhe uma data pré-definida por si e a data atual (now)**"
   ]
  },
  {
   "cell_type": "code",
   "execution_count": 109,
   "metadata": {},
   "outputs": [
    {
     "name": "stdout",
     "output_type": "stream",
     "text": [
      "20 de Abril de 2020\n",
      "30 de Outubro de 2022\n",
      "\n",
      "\n",
      "Calculando o número mágico da sorte... (Aguarde 5 segundos.)\n",
      "O seu número mágico da sorte é 314!!!\n",
      "O seu momento da sorte será em 9 de Setembro de 2023 às 15 horas. Prepare-se, pois algo de muito bom irá acontecer!\n"
     ]
    }
   ],
   "source": [
    "# Completar o exercício aqui\n",
    "from calendar import month\n",
    "from datetime import timedelta\n",
    "import time\n",
    "import random\n",
    "\n",
    "\n",
    "def formato_data(dt=datetime.now()):\n",
    "    meses = (\"\",\n",
    "             \"Janeiro\",\n",
    "             \"Fevereiro\",\n",
    "             \"Março\",\n",
    "             \"Abril\",\n",
    "             \"Maio\",\n",
    "             \"Junho\",\n",
    "             \"Julho\",\n",
    "             \"Agosto\",\n",
    "             \"Setembro\",\n",
    "             \"Outubro\",\n",
    "             \"Novembro\",\n",
    "             \"Dezembro\")\n",
    "    return f\"{dt.day} de {meses[dt.month]} de {dt.year}\"\n",
    "\n",
    "\n",
    "print(formato_data(datetime(2020, 4, 20)))\n",
    "print(formato_data(datetime.now()))\n",
    "\n",
    "\n",
    "# extra\n",
    "print(\"\\n\\nCalculando o número mágico da sorte... (Aguarde 5 segundos.)\")\n",
    "time.sleep(5)\n",
    "numero_sorte = random.randint(0, 365)\n",
    "hora_sorte = random.randint(0, 23)\n",
    "print(f\"O seu número mágico da sorte é {numero_sorte}!!!\")\n",
    "print(\n",
    "    f\"O seu momento da sorte será em {formato_data(datetime.now() + timedelta(days=numero_sorte))} às {hora_sorte} horas. Prepare-se, pois algo de muito bom irá acontecer!\")\n"
   ]
  },
  {
   "cell_type": "markdown",
   "metadata": {},
   "source": [
    "**3) Utilizando strftime, formate a data atual para que saia com o seguinte formato:**\n",
    "* Dia: 20\n",
    "* Mês: 04\n",
    "* Ano: 2020\n",
    "* Hora: 16\n",
    "* Minutos: 19\n",
    "* Segundos (e milissegundos): 08.879057"
   ]
  },
  {
   "cell_type": "code",
   "execution_count": 110,
   "metadata": {
    "scrolled": true
   },
   "outputs": [
    {
     "name": "stdout",
     "output_type": "stream",
     "text": [
      "Dia: 30\n",
      "Mês: 10\n",
      "Ano: 2022\n",
      "Hora: 17\n",
      "Minutos: 02\n",
      "Segundos (e milissegundos): 28.267849\n",
      "\n",
      "Data Atual:  30-10-2022 17:02:28.267849\n"
     ]
    }
   ],
   "source": [
    "# Completar o exercício aqui\n",
    "data_atual = datetime.now()\n",
    "print(\"Dia:\", data_atual.strftime(\"%d\"))\n",
    "print(\"Mês:\", data_atual.strftime(\"%m\"))\n",
    "print(\"Ano:\", data_atual.strftime(\"%Y\"))\n",
    "print(\"Hora:\", data_atual.strftime(\"%H\"))\n",
    "print(\"Minutos:\", data_atual.strftime(\"%M\"))\n",
    "print(\"Segundos (e milissegundos):\", data_atual.strftime(\"%S.%f\"))\n",
    "print(\"\\nData Atual: \", data_atual.strftime(\"%d-%m-%Y %H:%M:%S.%f\"))\n"
   ]
  }
 ],
 "metadata": {
  "anaconda-cloud": {},
  "kernelspec": {
   "display_name": "Python 3.10.8 64-bit",
   "language": "python",
   "name": "python3"
  },
  "language_info": {
   "codemirror_mode": {
    "name": "ipython",
    "version": 3
   },
   "file_extension": ".py",
   "mimetype": "text/x-python",
   "name": "python",
   "nbconvert_exporter": "python",
   "pygments_lexer": "ipython3",
   "version": "3.10.8"
  },
  "vscode": {
   "interpreter": {
    "hash": "767d51c1340bd893661ea55ea3124f6de3c7a262a8b4abca0554b478b1e2ff90"
   }
  }
 },
 "nbformat": 4,
 "nbformat_minor": 1
}
