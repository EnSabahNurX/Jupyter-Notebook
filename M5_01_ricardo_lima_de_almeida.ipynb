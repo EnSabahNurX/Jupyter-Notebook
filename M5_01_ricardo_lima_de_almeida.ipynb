{
 "cells": [
  {
   "cell_type": "markdown",
   "metadata": {},
   "source": [
    "# Exercícios Módulo 5. Ficheiros (Enunciado)\n",
    "\n",
    "Considerações a ter em conta:\n",
    "\n",
    "* Guardar este documento com o seguinte formato para entrega: __M5_01_nome_apelido1_apelido2__\n",
    "* Fazer os exercícios com as ferramentas vistas nas sessões. \n",
    "* Comentar o código\n",
    "* Utilizar nomes de variáveis apropriados, se vai guardar uma nota, chamar a essa variável nota, não n ou x"
   ]
  },
  {
   "cell_type": "markdown",
   "metadata": {},
   "source": [
    "**1)  Neste exercício deverá criar um programa que abra e leia um ficheiro de texto, e nos proporcione a seguinte informação:**\n",
    "\n",
    "* Nome do ficheiro\n",
    "* Se o ficheiro está fechado ou não (True ou False)\n",
    "* O modo de abertura do ficheiro\n",
    "\n",
    "O ficheiro de texto irá denominar-se **provas.txt** e terá o seguinte conteúdo em texto plano (criar previamente):\n",
    "\n",
    "```\n",
    "Olá que tal estás \n",
    "Isto é uma prova \n",
    "Hoje não chove\n",
    "Aproxima-se o natal \n",
    "Até logo e boa \n",
    "continuação\n",
    "```\n",
    "\n",
    "Pesquisar na documentação que métodos nos proporcionam a informação requerida. Por último, listar o conteúdo do ficheiro.\n",
    "\n",
    "**Aviso importante**: *se quer ler um ficheiro que não se escreveu diretamente com Python, é possível que encontre erros de codificação ao \n",
    "mostrar alguns caracteres. Assegure-se de indicar a codificação do ficheiro manualmente durante a abertura como argumento no **open**, por\n",
    "exemplo com UTF-8*:\n",
    "\n",
    "```python\n",
    "open(..., encoding=\"utf8\")\n",
    "```"
   ]
  },
  {
   "cell_type": "code",
   "execution_count": 1,
   "metadata": {},
   "outputs": [
    {
     "name": "stdout",
     "output_type": "stream",
     "text": [
      "Ficheiro criado com sucesso e guardado o texto requerido.\n",
      "\n",
      "\n",
      "Leitura do ficheiro iniciada\n",
      "Nome do ficheiro: prova.txt\n",
      "Ficheiro está fechado? False\n",
      "Modo de abertura: r\n",
      "Leitura do ficheiro encerrada.\n",
      "\n",
      "Ficheiro está fechado? True \n",
      "\n",
      "\n",
      "Leitura do ficheiro iniciada\n",
      "\n",
      "Ficheiro está fechado? False\n",
      "Modo de abertura: r\n",
      "\n",
      "Exibindo no ecrã conteúdo do ficheiro:\n",
      "\n",
      "['Olá que tal estás\\n', 'Isto é uma prova\\n', 'Hoje não chove\\n', 'Aproxima-se o natal\\n', 'Até logo e boa\\n', 'continuação']\n",
      "\n",
      "\n",
      "Exibição do conteúdo do ficheiro encerrada.\n",
      "\n",
      "Ficheiro está fechado? True\n"
     ]
    }
   ],
   "source": [
    "# Completar o exercício aqui\n",
    "texto = '''Olá que tal estás\n",
    "Isto é uma prova\n",
    "Hoje não chove\n",
    "Aproxima-se o natal\n",
    "Até logo e boa\n",
    "continuação'''\n",
    "\n",
    "# cria ficheiro e copia o conteúdo completo de texto e guarda como texto no ficheiro\n",
    "# caso já exista será sobrescrito totalmente\n",
    "# usando este método com 'with' não é necessário fechar o ficheiro, a conexão encerrar quando o bloco de instrução acaba\n",
    "with open(\"prova.txt\", \"wt\", encoding=\"utf8\") as ficheiro:\n",
    "    ficheiro.write(texto)\n",
    "    print(\"Ficheiro criado com sucesso e guardado o texto requerido.\\n\")\n",
    "\n",
    "# abre ficheiro em modo append e trata-o como texto\n",
    "# caso não exista o ficheiro então o mesmo será criado\n",
    "# caso já exista será adicionado o conteúdo ao final do ficheiro\n",
    "with open(\"prova.txt\", encoding=\"utf8\") as ficheiro:\n",
    "    print(\"\\nLeitura do ficheiro iniciada\")\n",
    "    # obtem o nome do ficheiro aberto, caso tenha o path completo será exibido somente o final com o nome do ficheiro\n",
    "    print(\"Nome do ficheiro:\", ficheiro.name.split('/')[-1])\n",
    "    # informa se o ficheiro está fechado, retorna False se estiver aberto\n",
    "    print(\"Ficheiro está fechado?\", ficheiro.closed)\n",
    "    # provem o modo de abertura do ficheiro\n",
    "    print(\"Modo de abertura:\", ficheiro.mode)\n",
    "    print(\"Leitura do ficheiro encerrada.\")\n",
    "\n",
    "print(\"\\nFicheiro está fechado?\", ficheiro.closed, \"\\n\")\n",
    "with open(\"prova.txt\", encoding=\"utf8\") as ficheiro:\n",
    "    print(\"\\nLeitura do ficheiro iniciada\")\n",
    "    print(\"\\nFicheiro está fechado?\", ficheiro.closed)\n",
    "    print(\"Modo de abertura:\", ficheiro.mode)\n",
    "    print(\"\\nExibindo no ecrã conteúdo do ficheiro:\\n\")\n",
    "    print(ficheiro.readlines())\n",
    "    print(ficheiro.read())\n",
    "    print(\"\\nExibição do conteúdo do ficheiro encerrada.\")\n",
    "print(\"\\nFicheiro está fechado?\", ficheiro.closed)\n"
   ]
  },
  {
   "cell_type": "markdown",
   "metadata": {},
   "source": [
    "**2) Sobre o ficheiro anterior, obtenha a seguinte informação:**\n",
    "\n",
    "* Leitura de uma linha do ficheiro \n",
    "* Leitura do ficheiro linha a linha"
   ]
  },
  {
   "cell_type": "code",
   "execution_count": 3,
   "metadata": {},
   "outputs": [
    {
     "name": "stdout",
     "output_type": "stream",
     "text": [
      "Lendo uma linha do ficheiro\n",
      "Olá que tal estás\n",
      "\n",
      "Lendo todas as linhas do ficheiro e criando uma lista com as linhas\n",
      "['Olá que tal estás\\n', 'Isto é uma prova\\n', 'Hoje não chove\\n', 'Aproxima-se o natal\\n', 'Até logo e boa\\n', 'continuação'] \n",
      "\n",
      "Lendo o ficheiro linha a linha\n",
      "Olá que tal estás\n",
      "Isto é uma prova\n",
      "Hoje não chove\n",
      "Aproxima-se o natal\n",
      "Até logo e boa\n",
      "continuação"
     ]
    }
   ],
   "source": [
    "# Completar o exercício aqui\n",
    "# se não especificar o mode de abertura será por padrão \"rt\"\n",
    "\n",
    "# lendo uma linha do ficheiro\n",
    "print(\"lendo uma linha do ficheiro\".capitalize())\n",
    "ficheiro = open(\"prova.txt\", encoding=\"utf8\")\n",
    "print(ficheiro.readline())\n",
    "ficheiro.close()\n",
    "\n",
    "# lendo todas as linhas do ficheiro e criando uma lista com as linhas\n",
    "print(\"lendo todas as linhas do ficheiro e criando uma lista com as linhas\".capitalize())\n",
    "ficheiro = open(\"prova.txt\", encoding=\"utf8\")\n",
    "print(ficheiro.readlines(), \"\\n\")\n",
    "ficheiro.close()\n",
    "\n",
    "# lendo o ficheiro linha a linha\n",
    "print(\"lendo o ficheiro linha a linha\".capitalize())\n",
    "with open(\"prova.txt\", \"rt\", encoding=\"utf8\") as ficheiro:\n",
    "    for linha in ficheiro:\n",
    "        print(linha, end='')\n"
   ]
  },
  {
   "cell_type": "markdown",
   "metadata": {},
   "source": [
    "**3)  Sobre o ficheiro anterior, fazer a seguinte operação:**\n",
    "\n",
    "* Abrir o ficheiro em modo de escrita (concatenando o conteúdo, sem substituir) e escrever uma nova linha de texto\n",
    "\n",
    "Comprovar que esta a funcionar corretamente imprimindo o conteúdo do ficheiro (terá que fechar e abrir a conexão para poder visualizar as mudanças)."
   ]
  },
  {
   "cell_type": "code",
   "execution_count": 4,
   "metadata": {},
   "outputs": [
    {
     "name": "stdout",
     "output_type": "stream",
     "text": [
      "Abrindo o ficheiro e concatenando com o conteúdo já existente\n",
      "\n",
      "Lendo o ficheiro após a alteração e exibindo no ecrã o seu conteudo\n",
      "Olá que tal estás\n",
      "Isto é uma prova\n",
      "Hoje não chove\n",
      "Aproxima-se o natal\n",
      "Até logo e boa\n",
      "continuaçãoPython está entre as linguagens de programação mais populares de 2022.\n"
     ]
    }
   ],
   "source": [
    "# Completar o exercício aqui\n",
    "# solicitando ao usuário dados para inserir no ficheiro\n",
    "nova_linha = input(\n",
    "    \"Por favor digite o conteúdo que deseja adicionar ao ficheiro:\\n\")\n",
    "\n",
    "# abrindo o ficheiro e concatenando com o conteúdo já existente\n",
    "print(\"Abrindo o ficheiro e concatenando com o conteúdo já existente\")\n",
    "with open(\"prova.txt\", \"at\", encoding=\"utf8\") as ficheiro:\n",
    "    ficheiro.write(nova_linha)\n",
    "\n",
    "# lendo o ficheiro após a alteração e exibindo no ecrã o seu conteudo\n",
    "print(\"\\nLendo o ficheiro após a alteração e exibindo no ecrã o seu conteudo\")\n",
    "with open(\"prova.txt\", encoding=\"utf8\") as ficheiro:\n",
    "    print(ficheiro.read())\n"
   ]
  },
  {
   "cell_type": "markdown",
   "metadata": {},
   "source": [
    "**4) Sobre o ficheiro anterior, fazer a seguinte operação:**\n",
    "\n",
    "* Abrir o ficheiro em modo de escrita (substituindo o conteúdo) e escrever uma nova linha de texto\n",
    "\n",
    "Comprovar que esta a funcionar corretamente imprimindo o conteúdo do ficheiro (terá que fechar e abrir a conexão para poder visualizar as mudanças)."
   ]
  },
  {
   "cell_type": "code",
   "execution_count": 5,
   "metadata": {},
   "outputs": [
    {
     "name": "stdout",
     "output_type": "stream",
     "text": [
      "Abrindo o ficheiro e sobrescrevendo o conteúdo já existente\n",
      "\n",
      "Lendo o ficheiro após a alteração e exibindo no ecrã o seu conteúdo\n",
      "Pythone está no ranking das linguagesnde programação mais utilizadas em 2022.\n"
     ]
    }
   ],
   "source": [
    "# Completar o exercício aqui\n",
    "# solicitando ao usuário dados para inserir no ficheiro\n",
    "nova_linha = input(\n",
    "    \"Por favor digite o conteúdo que deseja sobrescrever no ficheiro substituindo o conteúdo já existente:\\n\")\n",
    "\n",
    "# abrindo o ficheiro e sobrescrevendo o conteúdo já existente\n",
    "print(\"Abrindo o ficheiro e sobrescrevendo o conteúdo já existente\")\n",
    "with open(\"prova.txt\", \"wt\", encoding=\"utf8\") as ficheiro:\n",
    "    ficheiro.write(nova_linha)\n",
    "\n",
    "# lendo o ficheiro após a alteração e exibindo no ecrã o seu conteudo\n",
    "print(\"\\nLendo o ficheiro após a alteração e exibindo no ecrã o seu conteúdo\")\n",
    "with open(\"prova.txt\", encoding=\"utf8\") as ficheiro:\n",
    "    print(ficheiro.read())\n"
   ]
  },
  {
   "cell_type": "markdown",
   "metadata": {},
   "source": [
    "**5) Neste exercício deverá criar um programa que leia os dados de um ficheiro de texto, que transforme cada linha num dicionário e adicione o dicionario a uma lista chamada pessoas. De seguida percorre-se a lista pessoas e para cada uma mostrar da forma expressa no exemplo:**\n",
    "\n",
    "```\n",
    "(id=1) Carlos Pérez => 05/01/1989 \n",
    "```\n",
    "\n",
    "O ficheiro de texto irá denominar-se **pessoas.txt** e terá o seguinte conteúdo em texto plano (criar previamente):\n",
    "\n",
    "\n",
    "```\n",
    "1;Carlos;Pérez;05/01/1989\n",
    "2;Manuel;Heredia;26/12/1973\n",
    "3;Rosa;Campos;12/06/1961\n",
    "4;David;García;25/07/2006\n",
    "```\n",
    "\n",
    "Os campos do dicionário serão por ordem: **id**, **nome**, **apelido** e **nascimento**.\n",
    "\n",
    "**Aviso importante**: *se quer ler um ficheiro que não se escreveu diretamente com Python,  é possível que encontre erros de codificação ao mostrar alguns caracteres. Assegure-se de indicar a codificação do ficheiro manualmente durante a abertura como um argumento no **open**, por exemplo com UTF-8*:\n",
    "\n",
    "```python\n",
    "open(..., encoding=\"utf8\")\n",
    "```\n",
    "\n",
    "Pista: é possível que tenha que recorrer a funções como replace ou split para poder modificar o texto de uma linha de texto. \n",
    "Pesquisar documentação sobre isso."
   ]
  },
  {
   "cell_type": "code",
   "execution_count": 28,
   "metadata": {},
   "outputs": [
    {
     "name": "stdout",
     "output_type": "stream",
     "text": [
      "(id=1) Carlos Pérez => 05/01/1989\n",
      "(id=2) Manuel Heredia => 26/12/1973\n",
      "(id=3) Rosa Campos => 12/06/1961\n",
      "(id=4) David García => 25/07/2006\n"
     ]
    }
   ],
   "source": [
    "# Completar o exercício aqui\n",
    "texto = '''1;Carlos;Pérez;05/01/1989\n",
    "2;Manuel;Heredia;26/12/1973\n",
    "3;Rosa;Campos;12/06/1961\n",
    "4;David;García;25/07/2006\n",
    "'''\n",
    "lista_chaves = [\"id\", \"nome\", \"apelido\", \"nascimento\"]\n",
    "pessoas = []\n",
    "# abre/cria o ficheiro e escreve o texto dentro e guarda\n",
    "with open(\"prova.txt\", \"wt\", encoding=\"utf8\") as ficheiro:\n",
    "    ficheiro.write(texto)\n",
    "\n",
    "# abre o ficheiro no modo leitura para extração de dados\n",
    "with open(\"prova.txt\", encoding=\"utf8\") as ficheiro:\n",
    "    for linha in ficheiro:\n",
    "        # ler o ficheiro linha a linha, elimina o \\n e troca o ; pela vírgula, cria um dicionário com as chaves e valores, adiciona-o à lista de pessoas\n",
    "        lista_valores = linha.replace(\"\\n\", \"\").split(';')\n",
    "        # compreensão de lista para gerar um dicionário com os indices extraídos da lista de chaves e o valor da linha que foi lida pela função\n",
    "        dicionario = {lista_chaves[i]: lista_valores[i] for i in range(len(lista_chaves))}\n",
    "        # adicona o dicionario gerado à lista de pessoas\n",
    "        pessoas.append(dicionario)\n",
    "for pessoa in pessoas:\n",
    "    # percorre cada item da lista de pessoas que contém um dicionário para cada pessoa e com seus dados, então exibe no ecrã no formato personalizado\n",
    "    print(f\"(id={pessoa['id']}) {pessoa['nome']} {pessoa['apelido']} => {pessoa['nascimento']}\")\n"
   ]
  }
 ],
 "metadata": {
  "anaconda-cloud": {},
  "kernelspec": {
   "display_name": "Python 3.10.8 64-bit",
   "language": "python",
   "name": "python3"
  },
  "language_info": {
   "codemirror_mode": {
    "name": "ipython",
    "version": 3
   },
   "file_extension": ".py",
   "mimetype": "text/x-python",
   "name": "python",
   "nbconvert_exporter": "python",
   "pygments_lexer": "ipython3",
   "version": "3.10.8"
  },
  "vscode": {
   "interpreter": {
    "hash": "e7370f93d1d0cde622a1f8e1c04877d8463912d04d973331ad4851f04de6915a"
   }
  }
 },
 "nbformat": 4,
 "nbformat_minor": 1
}
