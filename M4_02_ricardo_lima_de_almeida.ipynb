{
 "cells": [
  {
   "cell_type": "markdown",
   "metadata": {},
   "source": [
    "# Exercícios Módulo 2. Unidade 2. Métodos aplicados (Soluções)\n",
    "\n",
    "Considerações a ter em conta:\n",
    "\n",
    "* Guardar este documento com o seguinte formato para entrega: __M4_02_nome_apelido1_apelido2__\n",
    "* Fazer os exercícios com as ferramentas vistas nas sessões. \n",
    "* Comentar o código\n",
    "* Utilizar nomes de variáveis apropriados, se vai guardar uma nota, chamar a essa variável nota, não n ou x"
   ]
  },
  {
   "cell_type": "markdown",
   "metadata": {},
   "source": [
    "**1) Solicitar um texto ao utilizador e dizer se:**\n",
    "* O texto é uma cadeia de texto\n",
    "* O texto é uma cadeia de dígitos\n",
    "* O texto inclui caracteres e números"
   ]
  },
  {
   "cell_type": "code",
   "execution_count": 6,
   "metadata": {},
   "outputs": [
    {
     "name": "stdout",
     "output_type": "stream",
     "text": [
      "Por favor digite um texto qualquer:cursoTokio2022\n",
      "O texto inclui caracteres e números\n"
     ]
    }
   ],
   "source": [
    "# Completar o exercício aqui\n",
    "textoUsuario = input(\"Por favor digite um texto qualquer:\")\n",
    "if textoUsuario.isalpha():\n",
    "    print(\"O texto é uma cadeia de texto\")\n",
    "elif textoUsuario.isdigit():\n",
    "    print(\"O texto é uma cadeia de dígitos\")\n",
    "elif textoUsuario.isalnum():\n",
    "    print(\"O texto inclui caracteres e números\")\n",
    "else:\n",
    "    print(\"Desculpe, não consegui perceber se o texto é uma cadeia que inclui caracteres ou números.\")\n"
   ]
  },
  {
   "cell_type": "markdown",
   "metadata": {},
   "source": [
    "**2) Solicitar ao utilizador um texto e uma palavra a pesquisar dentro do texto. Se a localizar, extrair desde essa posição até ao final da frase e armazená-lo noutra variável, e imprimir.** \n",
    "* Exemplo de texto: Olá mundo que tal \n",
    "* Pesquisamos: mundo\n",
    "* Resultado: mundo que tal"
   ]
  },
  {
   "cell_type": "code",
   "execution_count": 26,
   "metadata": {},
   "outputs": [
    {
     "name": "stdout",
     "output_type": "stream",
     "text": [
      "Introduza um texto:\n",
      "O mundo é grande, é constituído por diversas pequenas partes.\n",
      "Digite a palavra-chave para pesquisar dentro do texto:\n",
      "grande\n",
      "A palavra-chave \"grande\" foi encontrado dentro do texto, segue o texto a partir da posição onde foi localizada:\n",
      "\n",
      "grande, é constituído por diversas pequenas partes.\n"
     ]
    }
   ],
   "source": [
    "# Completar o exercício aqui\n",
    "textoBase = input(\"Introduza um texto:\\n\")\n",
    "palavra = input(\"Digite a palavra-chave para pesquisar dentro do texto:\\n\")\n",
    "novoTexto = None\n",
    "if textoBase.find(palavra) >= 0:\n",
    "    novoTexto = textoBase[textoBase.find(palavra):]\n",
    "    print(f'A palavra-chave \"{palavra}\" foi encontrado dentro do texto, segue o texto a partir da posição onde foi localizada:\\n\\n'+novoTexto)\n",
    "else:\n",
    "    print(\"Desculpe, não foi encontrado a palavra-chave dentro do texto.\")"
   ]
  },
  {
   "cell_type": "markdown",
   "metadata": {},
   "source": [
    "**3) Partindo de uma stri com diferentes palavras separadas por espaços, criar uma lista onde cada elemento seja cada palavra do texto. Mostrar essa lista e mostrar o número de vezes que se encontra a palavra \"mundo\" nessa lista**\n",
    "\n",
    "* Texto = “Olá mundo mundo que tal mundo estás”\n",
    "* Resultado = 3"
   ]
  },
  {
   "cell_type": "code",
   "execution_count": 31,
   "metadata": {},
   "outputs": [
    {
     "name": "stdout",
     "output_type": "stream",
     "text": [
      "['Olá', 'mundo', 'mundo', 'que', 'tal', 'mundo', 'estás']\n",
      "\n",
      "Texto = Olá mundo mundo que tal mundo estás\n",
      "Resultado = 3\n"
     ]
    }
   ],
   "source": [
    "# Completar o exercício aqui\n",
    "texto = \"Olá mundo mundo que tal mundo estás\"\n",
    "palavraChave = \"mundo\"\n",
    "listaTexto = texto.split(' ')\n",
    "print(listaTexto)\n",
    "resultado = 0\n",
    "for palavra in listaTexto:\n",
    "    if palavra == palavraChave:\n",
    "        resultado += 1\n",
    "print(f\"\\nTexto = {texto}\\nResultado = {resultado}\")"
   ]
  },
  {
   "cell_type": "code",
   "execution_count": null,
   "metadata": {},
   "outputs": [],
   "source": []
  }
 ],
 "metadata": {
  "anaconda-cloud": {},
  "kernelspec": {
   "display_name": "Python 3 (ipykernel)",
   "language": "python",
   "name": "python3"
  },
  "language_info": {
   "codemirror_mode": {
    "name": "ipython",
    "version": 3
   },
   "file_extension": ".py",
   "mimetype": "text/x-python",
   "name": "python",
   "nbconvert_exporter": "python",
   "pygments_lexer": "ipython3",
   "version": "3.10.8"
  }
 },
 "nbformat": 4,
 "nbformat_minor": 1
}
