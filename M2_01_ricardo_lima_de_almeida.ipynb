{
 "cells": [
  {
   "cell_type": "markdown",
   "metadata": {},
   "source": [
    "# Exercícios Módulo 2. Tipos básicos\n",
    "\n",
    "Considerações a ter em conta: \n",
    "\n",
    "* Guardar este documento com o seguinte formato para entrega: __M2_01_nome_apelido1_apelido2__\n",
    "* Fazer os exercícios com as ferramentas vistas nas sessões. Ainda não chegámos às condicionais nem ciclos \n",
    "* Comentar o código\n",
    "* Utilizar nomes de variáveis apropriados, se vai guardar uma nota, chamar a essa variável nota, não n ou x"
   ]
  },
  {
   "cell_type": "markdown",
   "metadata": {},
   "source": [
    "## Exercícios de tipos de variáveis básicos"
   ]
  },
  {
   "cell_type": "markdown",
   "metadata": {},
   "source": [
    "**1) Identifica os tipos de dados (inteiro, real, booleano ou texto) dos seguintes valores:**\n",
    "```python\n",
    "\"Olá Mundo\"        # texto / str\n",
    "True        # booleano / bool\n",
    "-25                 # inteiro / int\n",
    "1.167               # real / float\n",
    "' '                 # texto / str\n",
    "```"
   ]
  },
  {
   "cell_type": "markdown",
   "metadata": {},
   "source": [
    "**2) Indica o resultado que irão mostrar os print com base a estas variáveis (sem necessidade de programar, mentalmente):**\n",
    "```python\n",
    "a = 10\n",
    "b = -5\n",
    "c =  \"Olá \"\n",
    "```\n",
    "\n",
    "```python\n",
    "print(a * 5)         # 50\n",
    "print(a - b)         # 15\n",
    "print(c + \"Mundo\")   # Olá Mundo\n",
    "print(c * 2)         # Olá Olá \n",
    "print(c[-1])         # \" \" (Espaço simples)\n",
    "print(c[1:])         # lá\n",
    "```"
   ]
  },
  {
   "cell_type": "markdown",
   "metadata": {},
   "source": [
    "**3) Armazenar 3 variáveis com 3 strings diferentes, um deles têm de ser 50 pontos (.) gerados de uma forma automática. Criar uma quarta variável que seja a concatenação dos 3 strings, unidos com um traço “-“. Finalmente mostrar esta quarta variável de forma completa e mostrando unicamente os 5 primeiros caracteres e os 5 últimos.**"
   ]
  },
  {
   "cell_type": "code",
   "execution_count": 1,
   "metadata": {},
   "outputs": [
    {
     "name": "stdout",
     "output_type": "stream",
     "text": [
      "Olá-..................................................-Mundo\n",
      "Olá-.\n",
      "Mundo\n"
     ]
    }
   ],
   "source": [
    "# Completar o exercício aqui\n",
    "a = \"Olá\"\n",
    "b = \".\"*50\n",
    "c = \"Mundo\"\n",
    "d = a+\"-\"+b+\"-\"+c\n",
    "print(d)\n",
    "print(d[:5])\n",
    "print(d[-5:])"
   ]
  },
  {
   "cell_type": "code",
   "execution_count": null,
   "metadata": {},
   "outputs": [],
   "source": []
  }
 ],
 "metadata": {
  "anaconda-cloud": {},
  "kernelspec": {
   "display_name": "Python 3 (ipykernel)",
   "language": "python",
   "name": "python3"
  },
  "language_info": {
   "codemirror_mode": {
    "name": "ipython",
    "version": 3
   },
   "file_extension": ".py",
   "mimetype": "text/x-python",
   "name": "python",
   "nbconvert_exporter": "python",
   "pygments_lexer": "ipython3",
   "version": "3.10.6"
  }
 },
 "nbformat": 4,
 "nbformat_minor": 1
}
