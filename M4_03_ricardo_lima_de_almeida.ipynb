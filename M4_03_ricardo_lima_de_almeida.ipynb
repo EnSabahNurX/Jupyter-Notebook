{
 "cells": [
  {
   "cell_type": "markdown",
   "metadata": {},
   "source": [
    "# Exercícios Módulo 4. Unidade 3. Erros e Exceções (Soluções)\n",
    "\n",
    "Considerações a ter em conta: \n",
    "\n",
    "* Guardar este documento com o seguinte formato para entrega: __M4_03_nome_apelido1_apelido2__\n",
    "* Fazer os exercícios com as ferramentas vistas nas sessões. \n",
    "* Comentar o código\n",
    "* Utilizar nomes de variáveis apropriados, se vai guardar uma nota, chamar a essa variável nota, não n ou x"
   ]
  },
  {
   "cell_type": "markdown",
   "metadata": {},
   "source": [
    "**1)  Localizar o erro no seguinte bloco de código. Criar uma exceção para evitar que o programa bloqueia e adicionar uma explicação numa mensagem ao utilizador com a causa e/ou solução::**"
   ]
  },
  {
   "cell_type": "code",
   "execution_count": 46,
   "metadata": {},
   "outputs": [
    {
     "name": "stdout",
     "output_type": "stream",
     "text": [
      "Ops, parece que o seu código está tentando dividir um número por zero, o que não é permitido segundo as regras. Segue a mensagem de erro que recebi do sistema: \"division by zero\".\n",
      "Por favor substitua o zero na posição do divisor para um outro número que seja diferente de zero.\n"
     ]
    }
   ],
   "source": [
    "# Completar o exercício aqui\n",
    "try:\n",
    "    resultado = 10/0\n",
    "except ZeroDivisionError as erro:\n",
    "    print(\n",
    "        f'Ops, parece que o seu código está tentando dividir um número por zero, o que não é permitido segundo as regras. Segue a mensagem de erro que recebi do sistema: \"{erro}\".\\nPor favor substitua o zero na posição do divisor para um outro número que seja diferente de zero.')\n",
    "except Exception as erro:\n",
    "    print(\n",
    "        f'Ops, parece que o seu código está com alguma operação não permitida o que causou um erro no programa. Segue a mensagem de erro que recebi do sistema: \"{erro}\"')\n"
   ]
  },
  {
   "cell_type": "markdown",
   "metadata": {},
   "source": [
    "**2)  Localizar o erro no seguinte bloco de código. Criar uma exceção para evitar que o programa bloqueia e adicionar uma explicação numa mensagem ao utilizador com a causa e/ou solução::**"
   ]
  },
  {
   "cell_type": "code",
   "execution_count": 47,
   "metadata": {},
   "outputs": [
    {
     "name": "stdout",
     "output_type": "stream",
     "text": [
      "Ops, parece que o seu código está tentando acessar um índice que não existe. Segue a mensagem de erro que recebi do sistema: \"list index out of range\".\n",
      "Por favor verifique corretamente o tamanho do objeto e posição a que deseja aceder e altere o seu código.\n"
     ]
    }
   ],
   "source": [
    "# Completar o exercício aqui\n",
    "try:\n",
    "    lista = [1, 2, 3, 4, 5]\n",
    "    lista[10]\n",
    "except IndexError as erro:\n",
    "    print(\n",
    "        f'Ops, parece que o seu código está tentando acessar um índice que não existe. Segue a mensagem de erro que recebi do sistema: \"{erro}\".\\nPor favor verifique corretamente o tamanho do objeto e posição a que deseja aceder e altere o seu código.')\n",
    "except Exception as erro:\n",
    "    print(\n",
    "        f'Ops, parece que o seu código está com alguma operação não permitida o que causou um erro no programa. Segue a mensagem de erro que recebi do sistema: \"{erro}\"')\n"
   ]
  },
  {
   "cell_type": "markdown",
   "metadata": {},
   "source": [
    "**3)  Localizar o erro no seguinte bloco de código. Criar uma exceção para evitar que o programa bloqueia e adicionar uma explicação numa mensagem ao utilizador com a causa e/ou solução::**"
   ]
  },
  {
   "cell_type": "code",
   "execution_count": 48,
   "metadata": {},
   "outputs": [
    {
     "name": "stdout",
     "output_type": "stream",
     "text": [
      "Ops, parece que o seu código está tentando acessar o valor da chave 'branco', porém é uma chave do dicionário que não existe.\n",
      "Por favor verifique corretamente as chaves existente do dicionário que deseja aceder e altere o seu código.\n"
     ]
    }
   ],
   "source": [
    "# Completar o exercício aqui\n",
    "try:\n",
    "    cores = {'vermelho': 'red', 'verde': 'green', 'preto': 'black'}\n",
    "    cores['branco']\n",
    "except KeyError as erro:\n",
    "    print(\n",
    "        f'Ops, parece que o seu código está tentando acessar o valor da chave {erro}, porém é uma chave do dicionário que não existe.\\nPor favor verifique corretamente as chaves existente do dicionário que deseja aceder e altere o seu código.')\n",
    "except Exception as erro:\n",
    "    print(\n",
    "        f'Ops, parece que o seu código está com alguma operação não permitida o que causou um erro no programa. Segue a mensagem de erro que recebi do sistema: \"{erro}\"')\n"
   ]
  },
  {
   "cell_type": "markdown",
   "metadata": {},
   "source": [
    "**4) Localizar o erro no seguinte bloco de código. Criar uma exceção para evitar que o programa bloqueia e adicionar uma explicação numa mensagem ao utilizador com a causa e/ou solução::**"
   ]
  },
  {
   "cell_type": "code",
   "execution_count": 49,
   "metadata": {},
   "outputs": [
    {
     "name": "stdout",
     "output_type": "stream",
     "text": [
      "Ops, parece que o seu código está tentando fazer uma operação matemática entre um número e uma palavra ou caractere, ou está tentando concatenar valores alfanuméricos com diferentes tipos, o que não é permitido segundo as regras, pois só é possível fazer este tipo de operação entre números. Segue a mensagem de erro que recebi do sistema: \"can only concatenate str (not \"int\") to str\".\n",
      "Por favor altere o seu código convertendo para um número ou use \"cast\" para garantir o valor esperado na operação matemática, ou se for o caso de concatenar, garanta que estejam no formato string.\n"
     ]
    }
   ],
   "source": [
    "# Completar o exercício aqui\n",
    "try:\n",
    "    resultado = \"20\" + 15\n",
    "except TypeError as erro:\n",
    "    print(\n",
    "        f'Ops, parece que o seu código está tentando fazer uma operação matemática entre um número e uma palavra ou caractere, ou está tentando concatenar valores alfanuméricos com diferentes tipos, o que não é permitido segundo as regras, pois só é possível fazer este tipo de operação entre números. Segue a mensagem de erro que recebi do sistema: \"{erro}\".\\nPor favor altere o seu código convertendo para um número ou use \"cast\" para garantir o valor esperado na operação matemática, ou se for o caso de concatenar, garanta que estejam no formato string.')\n",
    "except Exception as erro:\n",
    "    print(\n",
    "        f'Ops, parece que o seu código está com alguma operação não permitida o que causou um erro no programa. Segue a mensagem de erro que recebi do sistema: \"{erro}\"')\n"
   ]
  },
  {
   "cell_type": "markdown",
   "metadata": {},
   "source": [
    "**5)  Realizar uma função chamada agregar_uma_vez() que receba uma lista e um elemento como argumento. A função deve adicionar o elemento ao final da lista com a condição de não repetir nenhum elemento. Se este elemento já se encontra na lista deve-se invocar um erro de tipo ValueError que deve capturar e mostrar esta mensagem no seu lugar:**\n",
    "\n",
    "```\n",
    "  Erro: Impossível adicionar elementos duplicados => [elemento].\n",
    "```\n",
    "**Teste agregar os elementos 10, -2, “Olá” à lista de elementos com a função que criou e mostrar o seu conteúdo**\n",
    "\n",
    "*Pista: Pode utilizar a sintaxis: elemento in lista*"
   ]
  },
  {
   "cell_type": "code",
   "execution_count": 50,
   "metadata": {},
   "outputs": [
    {
     "name": "stdout",
     "output_type": "stream",
     "text": [
      "[1, 5, -2, 10]\n",
      "Erro: Impossível adicionar elementos duplicados => [-2].\n",
      "[1, 5, -2, 10, 'Olá']\n"
     ]
    }
   ],
   "source": [
    "# Completar o exercício aqui\n",
    "elementos = [1, 5, -2]\n",
    "\n",
    "\n",
    "def agregar_uma_vez(lista, argumento_unico):\n",
    "    try:\n",
    "        if argumento_unico in lista:\n",
    "            raise ValueError()\n",
    "        else:\n",
    "            lista.append(argumento_unico)\n",
    "            return lista\n",
    "    except ValueError as erro:\n",
    "        return f\"Erro: Impossível adicionar elementos duplicados => [{argumento_unico}].\"\n",
    "\n",
    "\n",
    "print(agregar_uma_vez(elementos, 10))\n",
    "print(agregar_uma_vez(elementos, -2))\n",
    "print(agregar_uma_vez(elementos, \"Olá\"))\n"
   ]
  },
  {
   "cell_type": "markdown",
   "metadata": {},
   "source": [
    "**6) Pesquisa na documentação outra exceção que não se utilizou até agora e realiza os seguintes passos:**\n",
    "* Provocar o erro num código de exemplo.\n",
    "* Uma vez que as tenha provocado, controlá-las com try-except \n",
    "* Mostrar ao utilizador com uma mensagem personalizada, que estará dentro do except. "
   ]
  },
  {
   "cell_type": "code",
   "execution_count": 51,
   "metadata": {},
   "outputs": [
    {
     "name": "stdout",
     "output_type": "stream",
     "text": [
      "Ops, parece que o seu código está tentando acessar um atributo da classe que não existe. Segue a mensagem de erro que recebi do sistema: 'Cliente' object has no attribute 'morada'.\n",
      "Por favor verifique os atributos existentes na classe e altere o seu código.\n",
      "Dica: Use vars(classe_name) para obter os atributos existentes de uma classe.\n"
     ]
    }
   ],
   "source": [
    "# Completar o exercício aqui\n",
    "class Cliente:\n",
    "    def __init__(self, nome, id, email, telefone):\n",
    "        self.nome = nome\n",
    "        self.id = id\n",
    "        self.email = email\n",
    "        self.telefone = telefone\n",
    "\n",
    "\n",
    "try:\n",
    "    cliente1 = Cliente(\"João Miguel\", 345, \"joaomiguel@email.com\", \"900300800\")\n",
    "    print(cliente1.morada)\n",
    "except AttributeError as erro:\n",
    "    print(\n",
    "        f'Ops, parece que o seu código está tentando acessar um atributo da classe que não existe. Segue a mensagem de erro que recebi do sistema: {erro}.\\nPor favor verifique os atributos existentes na classe e altere o seu código.\\nDica: Use vars(classe_name) para obter os atributos existentes de uma classe.')\n"
   ]
  }
 ],
 "metadata": {
  "anaconda-cloud": {},
  "kernelspec": {
   "display_name": "Python 3.10.8 64-bit",
   "language": "python",
   "name": "python3"
  },
  "language_info": {
   "codemirror_mode": {
    "name": "ipython",
    "version": 3
   },
   "file_extension": ".py",
   "mimetype": "text/x-python",
   "name": "python",
   "nbconvert_exporter": "python",
   "pygments_lexer": "ipython3",
   "version": "3.10.8"
  },
  "vscode": {
   "interpreter": {
    "hash": "767d51c1340bd893661ea55ea3124f6de3c7a262a8b4abca0554b478b1e2ff90"
   }
  }
 },
 "nbformat": 4,
 "nbformat_minor": 1
}
