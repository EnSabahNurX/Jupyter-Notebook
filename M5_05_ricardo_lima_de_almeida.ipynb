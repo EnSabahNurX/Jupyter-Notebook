{
 "cells": [
  {
   "cell_type": "markdown",
   "metadata": {},
   "source": [
    "# Exercícios Módulo 5. Livrarias especializadas em dados (Soluções)\n",
    "\n",
    "Considerações a ter em conta:\n",
    "\n",
    "* Guardar este documento com o seguinte formato para entrega: __M5_05_nome_apelido1_apelido2__\n",
    "* Fazer os exercícios com as ferramentas vistas nas sessões. \n",
    "* Comentar o código\n",
    "* Utilizar nomes de variáveis apropriados, se vai guardar uma nota, chamar a essa variável nota, não n ou x"
   ]
  },
  {
   "cell_type": "markdown",
   "metadata": {},
   "source": [
    "**1) Trabalhar com NumPy**\n",
    "\n",
    "* Importar numpy e usar um alias para poder utilizar os seus recursos \n",
    "* Criar um array de elementos (de 10 a 100)\n",
    "* Inverter o array\n",
    "* Criar um array 3x3 com valores de 0 a 8 \n",
    "* Criar um array identidade de 6x6\n",
    "* Criar um array com valores aleatórios com o formato 3x3x3\n",
    "* Criar dois arrays, com valores aleatórios, A e B, e verificar se são iguais (há várias opções, investigar)"
   ]
  },
  {
   "cell_type": "code",
   "execution_count": 70,
   "metadata": {},
   "outputs": [
    {
     "name": "stdout",
     "output_type": "stream",
     "text": [
      "Array de elementos de 10 a 100\n",
      "[ 10  11  12  13  14  15  16  17  18  19  20  21  22  23  24  25  26  27\n",
      "  28  29  30  31  32  33  34  35  36  37  38  39  40  41  42  43  44  45\n",
      "  46  47  48  49  50  51  52  53  54  55  56  57  58  59  60  61  62  63\n",
      "  64  65  66  67  68  69  70  71  72  73  74  75  76  77  78  79  80  81\n",
      "  82  83  84  85  86  87  88  89  90  91  92  93  94  95  96  97  98  99\n",
      " 100]\n",
      "Array de elementos de 10 a 100 invertido a ordem\n",
      "[100  99  98  97  96  95  94  93  92  91  90  89  88  87  86  85  84  83\n",
      "  82  81  80  79  78  77  76  75  74  73  72  71  70  69  68  67  66  65\n",
      "  64  63  62  61  60  59  58  57  56  55  54  53  52  51  50  49  48  47\n",
      "  46  45  44  43  42  41  40  39  38  37  36  35  34  33  32  31  30  29\n",
      "  28  27  26  25  24  23  22  21  20  19  18  17  16  15  14  13  12  11\n",
      "  10]\n",
      "Array 3x3 com valores de 0 a 8 com 2 dimensões\n",
      "[[0 1 2]\n",
      " [3 4 5]\n",
      " [6 7 8]]\n",
      "Array identidade de 6x6\n",
      "[[1. 0. 0. 0. 0. 0.]\n",
      " [0. 1. 0. 0. 0. 0.]\n",
      " [0. 0. 1. 0. 0. 0.]\n",
      " [0. 0. 0. 1. 0. 0.]\n",
      " [0. 0. 0. 0. 1. 0.]\n",
      " [0. 0. 0. 0. 0. 1.]]\n",
      "Array com valores aleatórios 3x3x3\n",
      "[[[ 1.07447067  1.01904624 -0.23491218]\n",
      "  [ 0.37159473 -1.45383956 -1.38253105]\n",
      "  [ 0.66130321  0.60640621 -0.93559886]]\n",
      "\n",
      " [[-0.2424275   1.93368633 -1.45597929]\n",
      "  [ 0.66239045  0.89158897  0.08953461]\n",
      "  [-0.44289068 -0.69641451  0.03338368]]\n",
      "\n",
      " [[-0.61693787 -0.98184473  0.70343178]\n",
      "  [ 0.43748045  1.02437862 -0.93937545]\n",
      "  [ 0.56515751 -0.35882175  0.76702216]]]\n",
      "Testa se os arrays A e B tem a mesma forma e os valores de todos elementos são iguais.\n",
      "False\n",
      "Testa se os arrays A e B tem a forma equivalente se convertida e os valores de todos elementos são iguais.\n",
      "False\n",
      "Testa se os arrays A e B tem a mesma forma e os valores de todos elementos são próximos o bastante.\n",
      "False\n",
      "Testa se os arrays A e B tem a mesma forma.\n",
      "True\n",
      "Testa se são os arrays A e B são exatamente iguais, contudo pode produzir resultados inesperados, se tiver elementos vazios ou o tamanho de um array for diferente do outro. (Não recomendado)\n",
      "False\n"
     ]
    }
   ],
   "source": [
    "# Completar o exercício aqui\n",
    "import numpy as np\n",
    "print(\"Array de elementos de 10 a 100\")\n",
    "array_elementos = np.array(range(10, 101))\n",
    "print(array_elementos)\n",
    "print(\"Array de elementos de 10 a 100 invertido a ordem\")\n",
    "array_invertido = np.flip(array_elementos)\n",
    "print(array_invertido)\n",
    "print(\"Array 3x3 com valores de 0 a 8 com 2 dimensões\")\n",
    "array_3x3 = np.arange(3 * 3).reshape(3, 3)\n",
    "print(array_3x3)\n",
    "print(\"Array identidade de 6x6\")\n",
    "array_identidade = np.identity(6)\n",
    "print(array_identidade)\n",
    "print(\"Array com valores aleatórios 3x3x3\")\n",
    "array_3x3x3 = np.random.randn((3 * 3 * 3)).reshape(3, 3, 3)\n",
    "print(array_3x3x3)\n",
    "# criando 2 arrays quaisquer de 5 dimensões 5x5\n",
    "array_A = np.random.randn((5 * 5 * 5 * 5 * 5)).reshape(5, 5, 5, 5, 5)\n",
    "array_B = np.random.randn((5 * 5 * 5 * 5 * 5)).reshape(5, 5, 5, 5, 5)\n",
    "# print(\"Array A\")\n",
    "# print(array_A)\n",
    "# print(\"Array B\")\n",
    "# print(array_B)\n",
    "# Alguns métodos de comparação entre 2 arrays\n",
    "print(\"Testa se os arrays A e B tem a mesma forma e os valores de todos elementos são iguais.\")\n",
    "print(np.array_equal(array_A, array_B))\n",
    "print(\"Testa se os arrays A e B tem a forma equivalente se convertida e os valores de todos elementos são iguais.\")\n",
    "print(np.array_equiv(array_A, array_B))\n",
    "print(\"Testa se os arrays A e B tem a mesma forma e os valores de todos elementos são próximos o bastante.\")\n",
    "print(np.allclose(array_A, array_B))\n",
    "print(\"Testa se os arrays A e B tem a mesma forma.\")\n",
    "print(array_A.shape == array_B.shape)\n",
    "print(\"Testa se são os arrays A e B são exatamente iguais, contudo pode produzir resultados inesperados, se tiver elementos vazios ou o tamanho de um array for diferente do outro. (Não recomendado)\")\n",
    "print((array_A == array_B).all())\n"
   ]
  },
  {
   "cell_type": "markdown",
   "metadata": {},
   "source": [
    "**2) Seguir com NumPy**\n",
    "\n",
    "* Criar um array de 100 elementos aleatórios compreendidos entre 1 e 1000 (podem ser números inteiros). \n",
    "* Este array irá chamar-se dólares\n",
    "* Fazer a conversão dos preços em dólares do primeiro array para um segundo array que se vai chamar euros. Devemos utilizar a  seguinte conversão: \n",
    "  - 1 USD = 0,874413 EUR\n",
    "* Mostrar o resultado do array de euros, arredondando a 2 casas decimais."
   ]
  },
  {
   "cell_type": "code",
   "execution_count": 87,
   "metadata": {},
   "outputs": [
    {
     "name": "stdout",
     "output_type": "stream",
     "text": [
      "Dólares:\n",
      "[885 586 939 582 305 384 406 444 681 598 163 156 201  65 896 929 742 166\n",
      " 610 114 589  16 109 344  21 938 595 995 837 347  36 994 815  77 203 304\n",
      " 216 930 673 359 302 219 156 823 749 922 587 532 361 152 787 563 281 278\n",
      " 719 871 759 661 816 443 480 781 396 454 699 695  21 981 974 221 951 829\n",
      " 798 647 344 140 197  50 784 380 317 905 191 349 892 542 122 298 783 828\n",
      "   5 393 485 246 711 459 714 261 748 211]\n",
      "Euros com valores arrendondados a 2 casas decimais:\n",
      "[773.86 512.41 821.07 508.91 266.7  335.77 355.01 388.24 595.48 522.9\n",
      " 142.53 136.41 175.76  56.84 783.47 812.33 648.81 145.15 533.39  99.68\n",
      " 515.03  13.99  95.31 300.8   18.36 820.2  520.28 870.04 731.88 303.42\n",
      "  31.48 869.17 712.65  67.33 177.51 265.82 188.87 813.2  588.48 313.91\n",
      " 264.07 191.5  136.41 719.64 654.94 806.21 513.28 465.19 315.66 132.91\n",
      " 688.16 492.29 245.71 243.09 628.7  761.61 663.68 577.99 713.52 387.36\n",
      " 419.72 682.92 346.27 396.98 611.21 607.72  18.36 857.8  851.68 193.25\n",
      " 831.57 724.89 697.78 565.75 300.8  122.42 172.26  43.72 685.54 332.28\n",
      " 277.19 791.34 167.01 305.17 779.98 473.93 106.68 260.58 684.67 724.01\n",
      "   4.37 343.64 424.09 215.11 621.71 401.36 624.33 228.22 654.06 184.5 ]\n"
     ]
    }
   ],
   "source": [
    "# Completar o exercício aqui\n",
    "import numpy as np\n",
    "dólares = np.random.randint(low=1, high=1000, size=100)\n",
    "print(\"Dólares:\\n\", dólares, sep=\"\")\n",
    "taxa_conversão_USD_EUR = 0.874413\n",
    "euros = dólares * taxa_conversão_USD_EUR\n",
    "print(\"Euros com valores arrendondados a 2 casas decimais:\\n\",\n",
    "      np.round(euros, 2), sep=\"\")\n"
   ]
  },
  {
   "cell_type": "markdown",
   "metadata": {},
   "source": [
    "**3) Trabalhar com pandas**\n",
    "\n",
    "* Importar pandas e usar um alias para poder utilizar os seus recursos.\n",
    "* Carregar como dataframe de pandas csv 05_05_imdb_títulos.csv e mostrar os seus 5 primeiros registos.\n",
    "* Carregar como dataframe de pandas o csv 05_05_imdb_elenco.csv e mostrar os seus 5 primeiros registos\n",
    "* Mostrar o número de registos do dataframe de títulos.\n",
    "* Mostrar o número de registos do dataframe de elenco.\n",
    "* Mostrar os 5 titulos mais antigas.\n",
    "* Mostrar os filmes que no título contem a palavra “Drácula”. Quantos filmes são?\n",
    "* Mostrar os 10 títulos mais comuns (que mais se repetem).\n",
    "* Mostrar qual foi o primeiro filme chamado “Romeo and Juliet”.\n",
    "* Listar todas os filmes que contenham a palavra “Exorcist”, ordenados do mais antigo ao mais recente.\n",
    "* Mostrar quantos filmes foram feitas no ano 1950.\n",
    "* Mostrar quantaos filmes foram feitas de 1950 a 1959 (inclusive).\n",
    "* Mostrar todas os papéis que teve a trilogia “The Godfather”, agrupando pelo papel e forneca a informação da quantidade de vezes esse papel apareceu (exemplo: michael corleone aparece nos 3 filmes da triologia).\n",
    "* Mostrar o elenco completo, ordenado pela classificação “n” do filme “Drácula” de 1958.\n",
    "* Mostrar quantos papéis teve “Bruce Wayne” como protagonista (Dica: Em Batman de 1989, existe Bruce Wayne e tambem Young Bruce Wayne, que deverão ambos aparecer).\n",
    "* Mostrar quantos papéis fez “Robert de Niro” na sua carreira.\n",
    "* Listagem de papéis como protagonista (n=1) que teve o ator “Charlton Heston” na década dos 60’s, ordenado  por ano de forma descendente.\n",
    "* Mostrar quantos papéis para atores teve na década 50’s.\n",
    "* Mostrar quantos papéis para atrizes teve na década 50’s."
   ]
  },
  {
   "cell_type": "code",
   "execution_count": 181,
   "metadata": {},
   "outputs": [
    {
     "name": "stdout",
     "output_type": "stream",
     "text": [
      "Filmes que contenham a palavra “Exorcist”, ordenados do mais antigo ao mais recente:\n",
      "                                         title  year\n",
      "88003                             The Exorcist  1973\n",
      "49658                  O Exorcista de Mulheres  1974\n",
      "118920     Satanico Pandemonium: La Sexorcista  1975\n",
      "140519                Exorcist II: The Heretic  1977\n",
      "220073                        Kung Fu Exorcist  1978\n",
      "17375                         The Exorcist III  1990\n",
      "132451                        Teenage Exorcist  1991\n",
      "117797                 Exorcist: The Beginning  2004\n",
      "94189        Dominion: Prequel to the Exorcist  2005\n",
      "209250  Costa Chica: Confession of an Exorcist  2006\n",
      "86354                      Exorcist Chronicles  2007\n",
      "130686                      The Disco Exorcist  2011\n",
      "57932                      Exorcist Chronicles  2013\n",
      "151850                              Exorcistas  2015\n",
      "69974                           Shark Exorcist  2015\n",
      "51101                            Bad Exorcists  2015\n",
      "228642                  Exorcist House of Evil  2016\n",
      "60700                      Accidental Exorcist  2016\n",
      "195615                    Diary of an Exorcist  2016\n",
      "161093                       American Exorcist  2016\n"
     ]
    }
   ],
   "source": [
    "# Completar o exercício aqui\n",
    "import pandas as pd\n",
    "# dataframe_títulos = pd.read_csv('05_05_imdb_titulos.csv')\n",
    "# print(\"\\nMostrando os 5 primeiros registos de títulos:\")\n",
    "# print(dataframe_títulos.head(5))\n",
    "\n",
    "# dataframe_elenco = pd.read_csv('05_05_imdb_elenco.csv')\n",
    "# print(\"\\nMostrando os 5 primeiros registos de elenco:\")\n",
    "# print(dataframe_elenco.head(5))\n",
    "\n",
    "# print(\"\\nNúmero de registos do dataframe de títulos.\\n\",\n",
    "#       dataframe_títulos.count()[0], sep=\"\")\n",
    "# print(\"\\nNúmero de registos do dataframe de elenco.\\n\",\n",
    "#       dataframe_elenco.count()[0], sep=\"\")\n",
    "# dataframe_títulos.sort_values(by=['year'], inplace=True, ascending=True)\n",
    "# print(dataframe_títulos.head(5))\n",
    "\n",
    "# dracula_filmes = dataframe_títulos[dataframe_títulos['title'].str.contains(\"Dracula\") | dataframe_títulos['title'].str.contains(\n",
    "#     \"Drácula\") | dataframe_títulos['title'].str.contains(\"dracula\") | dataframe_títulos['title'].str.contains(\"drácula\")]\n",
    "# print(\"\\nFilmes que no título contém a expressão 'Drácula':\\n\",\n",
    "#       dracula_filmes, sep=\"\")\n",
    "# print(\"\\nNúmero total de filmes com a expressão 'Drácula':\",\n",
    "#       dracula_filmes.count()[0])\n",
    "\n",
    "# groupby_títulos = dataframe_títulos.groupby('title')['title'].count().sort_values(ascending=False)\n",
    "# print(\"10 títulos mais comuns:\")\n",
    "# print(groupby_títulos.head(10))\n",
    "\n",
    "\n",
    "# primeiro_romeo_julieta = dataframe_títulos[dataframe_títulos.title == 'Romeo and Juliet'].sort_values(\n",
    "#     by=['year'], ascending=True).head(1)\n",
    "# print(\"Primeiro filme chamado 'Romeo and Juliet':\")\n",
    "# print(primeiro_romeo_julieta)\n",
    "\n",
    "# exorcist_filmes = dataframe_títulos[dataframe_títulos['title'].str.contains(\n",
    "#     \"Exorcist\") | dataframe_títulos['title'].str.contains(\"exorcist\")].sort_values(by=['year'], ascending=True)\n",
    "# print(\"Filmes que contenham a palavra “Exorcist”, ordenados do mais antigo ao mais recente:\")\n",
    "# print(exorcist_filmes)\n"
   ]
  }
 ],
 "metadata": {
  "anaconda-cloud": {},
  "kernelspec": {
   "display_name": "Python 3.10.8 64-bit",
   "language": "python",
   "name": "python3"
  },
  "language_info": {
   "codemirror_mode": {
    "name": "ipython",
    "version": 3
   },
   "file_extension": ".py",
   "mimetype": "text/x-python",
   "name": "python",
   "nbconvert_exporter": "python",
   "pygments_lexer": "ipython3",
   "version": "3.10.8"
  },
  "vscode": {
   "interpreter": {
    "hash": "e7370f93d1d0cde622a1f8e1c04877d8463912d04d973331ad4851f04de6915a"
   }
  }
 },
 "nbformat": 4,
 "nbformat_minor": 1
}
