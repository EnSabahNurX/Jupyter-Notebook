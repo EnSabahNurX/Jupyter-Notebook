{
 "cells": [
  {
   "cell_type": "markdown",
   "metadata": {},
   "source": [
    "# Exercicios Modulo 5. JSON (Soluções)\n",
    "\n",
    "Considerações a ter em conta: \n",
    "\n",
    "* Guardar odocumento de soluções comoseguinte formatopara entrega: __M2_01_nome_apelido1_apelido2__\n",
    "* Realizar os exercicios com as ferramentas utilizadas nas aulas. \n",
    "* Comentar o código\n",
    "* Utilizar nomesde variáveis apropriados. Se vamosguardar umanota, chamamos a essa variável nota, não n oux."
   ]
  },
  {
   "cell_type": "markdown",
   "metadata": {},
   "source": [
    "# JSON (JavaScript Object Notation)"
   ]
  },
  {
   "cell_type": "markdown",
   "metadata": {},
   "source": [
    "1) Tenha em consideração o seguinte JSON String:\n",
    "\n",
    "{\"chefe_projeto\":{\"Nome\":\"Juan\",\"Idade\":28,\"Experiência\": [\"Gestão\",\"Finanças\",\"Basesdedados\"],\"Residência\": \n",
    "\"Madrid\",\"HorasProjeto\":3500},\"funcionários\":[{\"Nome\":\"Elena\",\"Idade\":26,\"Experiência\":\n",
    "[\"JavaScript\",\"Python\"],\"Residência\":\"Madrid\",\"HorasProjeto\":500},{\"Nome\":\"Luis\",\"Idade\":31,\"Experiência\": \n",
    "[\"Django\",\"Flask\",\"Pyramid\"],\"Residência\":\"Barcelona\",\"HorasProjeto\":1100}]}\n",
    "\n",
    "\n",
    "* Se necessário, utilizar um visualizador de JSON para o entender.\n",
    "* O objetivo é criar um dicionário com todos os dados e estruturas internas necessárias para que seja igual ao JSON String.\n",
    "* Criar estruturas mais pequenas até que se chegue a formar o mesmo JSON string que vemos acima.\n",
    "* Armazenar esta estrutura (o dicionário) numa variável.\n",
    "* Comprovar o seu tipo e mostrar por ecrã.\n",
    "* Criar duas variáveis: horas_funcionários e horas_chefe\n",
    "* Extrair as horas do chefe e introduzir na sua variável.\n",
    "* Criar um ciclo que percorra a totalidade de funcionários que tem na estrutura e para cada funcionário somar as suas horas na sua variável correspondente.\n",
    "* Somar todas as horas e imprimir."
   ]
  },
  {
   "cell_type": "code",
   "execution_count": 63,
   "metadata": {},
   "outputs": [
    {
     "name": "stdout",
     "output_type": "stream",
     "text": [
      "Tipo da variável dicionario: <class 'dict'>\n",
      "{'chefe_projeto': {'Nome': 'Juan', 'Idade': 28, 'Experiência': ['Gestão', 'Finanças', 'Basesdedados'], 'Residência': 'Madrid', 'HorasProjeto': 3500}, 'funcionários': [{'Nome': 'Elena', 'Idade': 26, 'Experiência': ['JavaScript', 'Python'], 'Residência': 'Madrid', 'HorasProjeto': 500}, {'Nome': 'Luis', 'Idade': 31, 'Experiência': ['Django', 'Flask', 'Pyramid'], 'Residência': 'Barcelona', 'HorasProjeto': 1100}]}\n",
      "Tipo da variável json: <class 'str'>\n",
      "{\"chefe_projeto\": {\"Nome\": \"Juan\", \"Idade\": 28, \"Experiência\": [\"Gestão\", \"Finanças\", \"Basesdedados\"], \"Residência\": \"Madrid\", \"HorasProjeto\": 3500}, \"funcionários\": [{\"Nome\": \"Elena\", \"Idade\": 26, \"Experiência\": [\"JavaScript\", \"Python\"], \"Residência\": \"Madrid\", \"HorasProjeto\": 500}, {\"Nome\": \"Luis\", \"Idade\": 31, \"Experiência\": [\"Django\", \"Flask\", \"Pyramid\"], \"Residência\": \"Barcelona\", \"HorasProjeto\": 1100}]}\n",
      "Horas de projeto do chefe: 3500\n",
      "Horas de projeto dos funcionários: 1600\n",
      "Total de horas de projeto:  5100\n"
     ]
    }
   ],
   "source": [
    "# Completa o exercicio aqui\n",
    "import json\n",
    "\n",
    "# função para obter quantidade de horas de projeto\n",
    "\n",
    "\n",
    "def obter_horas(*args):\n",
    "    total = 0\n",
    "    for lista in args:\n",
    "        for funcionario in lista:\n",
    "            total += funcionario[\"HorasProjeto\"]\n",
    "\n",
    "    return total\n",
    "\n",
    "\n",
    "# estruturas mais pequenas\n",
    "experiencia_juan = [\"Gestão\", \"Finanças\", \"Basesdedados\"]\n",
    "experiencia_elena = [\"JavaScript\", \"Python\"]\n",
    "experiencia_luis = [\"Django\", \"Flask\", \"Pyramid\"]\n",
    "dict_juan = {\"Nome\": \"Juan\", \"Idade\": 28, \"Experiência\": experiencia_juan,\n",
    "             \"Residência\": \"Madrid\", \"HorasProjeto\": 3500}\n",
    "dict_elena = {\"Nome\": \"Elena\", \"Idade\": 26, \"Experiência\": experiencia_elena,\n",
    "              \"Residência\": \"Madrid\", \"HorasProjeto\": 500}\n",
    "dict_luis = {\"Nome\": \"Luis\", \"Idade\": 31, \"Experiência\": experiencia_luis,\n",
    "             \"Residência\": \"Barcelona\", \"HorasProjeto\": 1100}\n",
    "dict_chefe_projeto = {\"chefe_projeto\": dict_juan}\n",
    "dict_funcionarios = {\"funcionários\": [dict_elena, dict_luis]}\n",
    "\n",
    "# dicionario englobando todas as variáveis até o momento\n",
    "#dicionario = {**dict_chefe_projeto, **dict_funcionarios}\n",
    "dicionario = dict_chefe_projeto | dict_funcionarios\n",
    "print(\"Tipo da variável dicionario:\", type(dicionario))\n",
    "print(dicionario)\n",
    "dicionario_json = json.dumps(dicionario, ensure_ascii=False)\n",
    "print(\"Tipo da variável json:\", type(dicionario_json))\n",
    "print(dicionario_json)\n",
    "\n",
    "horas_chefe = dicionario['chefe_projeto'][\"HorasProjeto\"]\n",
    "horas_funcionários = obter_horas(dicionario['funcionários'])\n",
    "print(\"Horas de projeto do chefe:\", horas_chefe)\n",
    "print(\"Horas de projeto dos funcionários:\", horas_funcionários)\n",
    "print(\"Total de horas de projeto: \", horas_chefe+horas_funcionários)\n"
   ]
  },
  {
   "cell_type": "markdown",
   "metadata": {},
   "source": [
    "2) No exercício anterior trabalhou-se com um dicionário que nós mesmos/as criamos. Converter para um formato JSON String, imprimir o seu tipo e os seus dados. Para que serve este formato?"
   ]
  },
  {
   "cell_type": "code",
   "execution_count": null,
   "metadata": {},
   "outputs": [],
   "source": [
    "# Completa o exercicio aqui\n"
   ]
  },
  {
   "cell_type": "markdown",
   "metadata": {},
   "source": [
    "3) Por vezes encontramos JSON que se tem de modificar. Para isso, temos de descodificá-los, fazer as modificações pertinentes e voltar a codificá-los para os deixar como JSON de novo. No seguinte exemplo podemos ver que há alguns erros:\n",
    "\n",
    "* Ao Superman falta-lhe como poder \"Voar\"\n",
    "* No Batman, a idade é 35, não 350\n",
    "* No Batman, retire-lhe o poder de \"Raio laser\"\n",
    "* No Wonder Woman falta-lhe o poder \"Laço da verdade\"\n",
    "\n",
    "Depois de corrigir, sem criar um novo, voltar a transformar estes dados num JSON String"
   ]
  },
  {
   "cell_type": "code",
   "execution_count": null,
   "metadata": {},
   "outputs": [],
   "source": [
    "# NÃO UTILIZE ESTE BLOCO\n",
    "\n",
    "superherois = {\n",
    "    \"nomedaEquipa\": \"Super Hero Squad\",\n",
    "    \"cidade\": \"Metro City\",\n",
    "    \"formado\": 2016,\n",
    "    \"baseSecreta\": \"Super Tower\",\n",
    "    \"activo\": \"Sim\",\n",
    "    \"membros\": [\n",
    "        {\n",
    "            \"nome\": \"SuperMan\",\n",
    "            \"idade\": 29,\n",
    "            \"identidadeSecreta\": \"Clart Kent\",\n",
    "            \"poderes\": [\n",
    "                \"Super força\",\n",
    "                \"Super velocidade\",\n",
    "                \"Raio laser\"\n",
    "            ]\n",
    "        },\n",
    "        {\n",
    "            \"nome\": \"Batman\",\n",
    "            \"idade\": 350,\n",
    "            \"identidadeSecreta\": \"Bruce Wayne\",\n",
    "            \"poderes\": [\n",
    "                \"Detective\",\n",
    "                \"Dinheiro\",\n",
    "                \"Raio laser\"\n",
    "            ]\n",
    "        },\n",
    "        {\n",
    "            \"nome\": \"Wonder Woman\",\n",
    "            \"idade\": 900,\n",
    "            \"identidadeSecreta\": \"Diana de Temiscira\",\n",
    "            \"poderes\": [\n",
    "                \"Super força\",\n",
    "                \"Super velocidade\"\n",
    "            ]\n",
    "        }\n",
    "    ]\n",
    "}\n"
   ]
  },
  {
   "cell_type": "code",
   "execution_count": null,
   "metadata": {},
   "outputs": [],
   "source": [
    "# Completa o exercicio aqui\n"
   ]
  },
  {
   "cell_type": "markdown",
   "metadata": {},
   "source": [
    "4) Com base no exercício anterior, modificar a estrutura de **super_herois** para conseguir que **membros** tenham dois ramos: \"membrosAtivos\" e \"membrosInativos\", onde cada um destes ramos, armazenem os heróis que estão no ativo e os que não. Neste caso, introduzimos SuperMan e WonderWoman na lista de ativos e Batman na de inativos. Esta modificação podemos fazê-la como quisermos: ou programando as estruturas de dados e adicionar ao JSON ou fazer a alteração diretamente no JSON. Ao finalizar, podemos comprovar o nosso JSON num visualizador online.(http://jsonviewer.stack.hu/)"
   ]
  },
  {
   "cell_type": "code",
   "execution_count": null,
   "metadata": {},
   "outputs": [],
   "source": [
    "# Completa o exercicio aqui\n"
   ]
  },
  {
   "cell_type": "markdown",
   "metadata": {},
   "source": [
    "5) No seguinte código, aceder a um JSON de forma remota. A partir da resposta, fazer o seguinte:\n",
    "\n",
    "* Mostrar o tipo de dados que se recebeu.\n",
    "* Expor os dados recebidos.\n",
    "* Mostrar o número de pessoas que se encontram atualmente na estrutura.\n",
    "* Fazer um ciclo que percorra todas essas pessoas e mostre os seus detalhes (nome, armazém, etc) no qual  se encontra.\n"
   ]
  },
  {
   "cell_type": "code",
   "execution_count": null,
   "metadata": {},
   "outputs": [],
   "source": [
    "from pip._vendor import requests\n",
    "\n",
    "\n",
    "# API que nos comunica quantas pessoas se encontram atualmente no espaço\n",
    "response = requests.get(\"http://api.open-notify.org/astros.json\")\n",
    "data = response.json()\n",
    "\n",
    "# Completar o exercício.\n"
   ]
  },
  {
   "cell_type": "code",
   "execution_count": null,
   "metadata": {},
   "outputs": [],
   "source": []
  }
 ],
 "metadata": {
  "anaconda-cloud": {},
  "kernelspec": {
   "display_name": "Python 3.10.8 64-bit",
   "language": "python",
   "name": "python3"
  },
  "language_info": {
   "codemirror_mode": {
    "name": "ipython",
    "version": 3
   },
   "file_extension": ".py",
   "mimetype": "text/x-python",
   "name": "python",
   "nbconvert_exporter": "python",
   "pygments_lexer": "ipython3",
   "version": "3.10.8"
  },
  "vscode": {
   "interpreter": {
    "hash": "e7370f93d1d0cde622a1f8e1c04877d8463912d04d973331ad4851f04de6915a"
   }
  }
 },
 "nbformat": 4,
 "nbformat_minor": 1
}
