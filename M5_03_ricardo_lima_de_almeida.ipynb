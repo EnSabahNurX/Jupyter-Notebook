{
 "cells": [
  {
   "cell_type": "markdown",
   "metadata": {},
   "source": [
    "# Exercicios Modulo 5. JSON (Soluções)\n",
    "\n",
    "Considerações a ter em conta: \n",
    "\n",
    "* Guardar odocumento de soluções comoseguinte formatopara entrega: __M2_01_nome_apelido1_apelido2__\n",
    "* Realizar os exercicios com as ferramentas utilizadas nas aulas. \n",
    "* Comentar o código\n",
    "* Utilizar nomesde variáveis apropriados. Se vamosguardar umanota, chamamos a essa variável nota, não n oux."
   ]
  },
  {
   "cell_type": "markdown",
   "metadata": {},
   "source": [
    "# JSON (JavaScript Object Notation)"
   ]
  },
  {
   "cell_type": "markdown",
   "metadata": {},
   "source": [
    "1) Tenha em consideração o seguinte JSON String:\n",
    "\n",
    "{\"chefe_projeto\":{\"Nome\":\"Juan\",\"Idade\":28,\"Experiência\": [\"Gestão\",\"Finanças\",\"Basesdedados\"],\"Residência\": \n",
    "\"Madrid\",\"HorasProjeto\":3500},\"funcionários\":[{\"Nome\":\"Elena\",\"Idade\":26,\"Experiência\":\n",
    "[\"JavaScript\",\"Python\"],\"Residência\":\"Madrid\",\"HorasProjeto\":500},{\"Nome\":\"Luis\",\"Idade\":31,\"Experiência\": \n",
    "[\"Django\",\"Flask\",\"Pyramid\"],\"Residência\":\"Barcelona\",\"HorasProjeto\":1100}]}\n",
    "\n",
    "\n",
    "* Se necessário, utilizar um visualizador de JSON para o entender.\n",
    "* O objetivo é criar um dicionário com todos os dados e estruturas internas necessárias para que seja igual ao JSON String.\n",
    "* Criar estruturas mais pequenas até que se chegue a formar o mesmo JSON string que vemos acima.\n",
    "* Armazenar esta estrutura (o dicionário) numa variável.\n",
    "* Comprovar o seu tipo e mostrar por ecrã.\n",
    "* Criar duas variáveis: horas_funcionários e horas_chefe\n",
    "* Extrair as horas do chefe e introduzir na sua variável.\n",
    "* Criar um ciclo que percorra a totalidade de funcionários que tem na estrutura e para cada funcionário somar as suas horas na sua variável correspondente.\n",
    "* Somar todas as horas e imprimir."
   ]
  },
  {
   "cell_type": "code",
   "execution_count": 174,
   "metadata": {},
   "outputs": [
    {
     "name": "stdout",
     "output_type": "stream",
     "text": [
      "Tipo da variável dicionario: <class 'dict'>\n",
      "{'chefe_projeto': {'Nome': 'Juan', 'Idade': 28, 'Experiência': ['Gestão', 'Finanças', 'Basesdedados'], 'Residência': 'Madrid', 'HorasProjeto': 3500}, 'funcionários': [{'Nome': 'Elena', 'Idade': 26, 'Experiência': ['JavaScript', 'Python'], 'Residência': 'Madrid', 'HorasProjeto': 500}, {'Nome': 'Luis', 'Idade': 31, 'Experiência': ['Django', 'Flask', 'Pyramid'], 'Residência': 'Barcelona', 'HorasProjeto': 1100}]}\n",
      "Horas de projeto do chefe: 3500\n",
      "Horas de projeto dos funcionários: 1600\n",
      "Total de horas de projeto:  5100\n"
     ]
    }
   ],
   "source": [
    "# Completa o exercicio aqui\n",
    "import json\n",
    "\n",
    "# função para obter quantidade de horas de projeto\n",
    "def obter_horas(*args):\n",
    "    total = 0\n",
    "    for lista in args:\n",
    "        for funcionario in lista:\n",
    "            total += funcionario[\"HorasProjeto\"]\n",
    "\n",
    "    return total\n",
    "\n",
    "\n",
    "# estruturas mais pequenas\n",
    "experiencia_juan = [\"Gestão\", \"Finanças\", \"Basesdedados\"]\n",
    "experiencia_elena = [\"JavaScript\", \"Python\"]\n",
    "experiencia_luis = [\"Django\", \"Flask\", \"Pyramid\"]\n",
    "dict_juan = {\"Nome\": \"Juan\", \"Idade\": 28, \"Experiência\": experiencia_juan,\n",
    "             \"Residência\": \"Madrid\", \"HorasProjeto\": 3500}\n",
    "dict_elena = {\"Nome\": \"Elena\", \"Idade\": 26, \"Experiência\": experiencia_elena,\n",
    "              \"Residência\": \"Madrid\", \"HorasProjeto\": 500}\n",
    "dict_luis = {\"Nome\": \"Luis\", \"Idade\": 31, \"Experiência\": experiencia_luis,\n",
    "             \"Residência\": \"Barcelona\", \"HorasProjeto\": 1100}\n",
    "dict_chefe_projeto = {\"chefe_projeto\": dict_juan}\n",
    "dict_funcionarios = {\"funcionários\": [dict_elena, dict_luis]}\n",
    "\n",
    "# dicionario englobando todas as variáveis até o momento\n",
    "#dicionario = {**dict_chefe_projeto, **dict_funcionarios}\n",
    "dicionario = dict_chefe_projeto | dict_funcionarios\n",
    "print(\"Tipo da variável dicionario:\", type(dicionario))\n",
    "print(dicionario)\n",
    "\n",
    "\n",
    "horas_chefe = dicionario['chefe_projeto'][\"HorasProjeto\"]\n",
    "horas_funcionários = obter_horas(dicionario['funcionários'])\n",
    "print(\"Horas de projeto do chefe:\", horas_chefe)\n",
    "print(\"Horas de projeto dos funcionários:\", horas_funcionários)\n",
    "print(\"Total de horas de projeto: \", horas_chefe+horas_funcionários)\n"
   ]
  },
  {
   "cell_type": "markdown",
   "metadata": {},
   "source": [
    "2) No exercício anterior trabalhou-se com um dicionário que nós mesmos/as criamos. Converter para um formato JSON String, imprimir o seu tipo e os seus dados. Para que serve este formato?"
   ]
  },
  {
   "cell_type": "code",
   "execution_count": 175,
   "metadata": {},
   "outputs": [
    {
     "name": "stdout",
     "output_type": "stream",
     "text": [
      "Tipo da variável json: <class 'str'>\n",
      "{\"chefe_projeto\": {\"Nome\": \"Juan\", \"Idade\": 28, \"Experiência\": [\"Gestão\", \"Finanças\", \"Basesdedados\"], \"Residência\": \"Madrid\", \"HorasProjeto\": 3500}, \"funcionários\": [{\"Nome\": \"Elena\", \"Idade\": 26, \"Experiência\": [\"JavaScript\", \"Python\"], \"Residência\": \"Madrid\", \"HorasProjeto\": 500}, {\"Nome\": \"Luis\", \"Idade\": 31, \"Experiência\": [\"Django\", \"Flask\", \"Pyramid\"], \"Residência\": \"Barcelona\", \"HorasProjeto\": 1100}]}\n"
     ]
    }
   ],
   "source": [
    "# Completa o exercicio aqui\n",
    "import json\n",
    "# o uso da flag ensure_ascii=False assegura a correta interpretação dos caracteres Unicode, pois por padrão tenta converter tudo para ascii\n",
    "dicionario_json = json.dumps(dicionario, ensure_ascii=False)\n",
    "print(\"Tipo da variável json:\", type(dicionario_json))\n",
    "print(dicionario_json)\n",
    "# Este procedimento serve para trabalharmos com JSON com foco na troca de dados, podemos converter o JSON em um dicionário em python, alterar o que for necessário e após isso converter para JSON novamente e exportar para outras plataformas com diferentes linguagens.\n"
   ]
  },
  {
   "cell_type": "markdown",
   "metadata": {},
   "source": [
    "3) Por vezes encontramos JSON que se tem de modificar. Para isso, temos de descodificá-los, fazer as modificações pertinentes e voltar a codificá-los para os deixar como JSON de novo. No seguinte exemplo podemos ver que há alguns erros:\n",
    "\n",
    "* Ao Superman falta-lhe como poder \"Voar\"\n",
    "* No Batman, a idade é 35, não 350\n",
    "* No Batman, retire-lhe o poder de \"Raio laser\"\n",
    "* No Wonder Woman falta-lhe o poder \"Laço da verdade\"\n",
    "\n",
    "Depois de corrigir, sem criar um novo, voltar a transformar estes dados num JSON String"
   ]
  },
  {
   "cell_type": "code",
   "execution_count": 176,
   "metadata": {},
   "outputs": [],
   "source": [
    "# NÃO UTILIZE ESTE BLOCO\n",
    "\n",
    "superherois = {\n",
    "    \"nomedaEquipa\": \"Super Hero Squad\",\n",
    "    \"cidade\": \"Metro City\",\n",
    "    \"formado\": 2016,\n",
    "    \"baseSecreta\": \"Super Tower\",\n",
    "    \"activo\": \"Sim\",\n",
    "    \"membros\": [\n",
    "        {\n",
    "            \"nome\": \"SuperMan\",\n",
    "            \"idade\": 29,\n",
    "            \"identidadeSecreta\": \"Clart Kent\",\n",
    "            \"poderes\": [\n",
    "                \"Super força\",\n",
    "                \"Super velocidade\",\n",
    "                \"Raio laser\"\n",
    "            ]\n",
    "        },\n",
    "        {\n",
    "            \"nome\": \"Batman\",\n",
    "            \"idade\": 350,\n",
    "            \"identidadeSecreta\": \"Bruce Wayne\",\n",
    "            \"poderes\": [\n",
    "                \"Detective\",\n",
    "                \"Dinheiro\",\n",
    "                \"Raio laser\"\n",
    "            ]\n",
    "        },\n",
    "        {\n",
    "            \"nome\": \"Wonder Woman\",\n",
    "            \"idade\": 900,\n",
    "            \"identidadeSecreta\": \"Diana de Temiscira\",\n",
    "            \"poderes\": [\n",
    "                \"Super força\",\n",
    "                \"Super velocidade\"\n",
    "            ]\n",
    "        }\n",
    "    ]\n",
    "}\n"
   ]
  },
  {
   "cell_type": "code",
   "execution_count": 177,
   "metadata": {},
   "outputs": [
    {
     "name": "stdout",
     "output_type": "stream",
     "text": [
      "{'nomedaEquipa': 'Super Hero Squad', 'cidade': 'Metro City', 'formado': 2016, 'baseSecreta': 'Super Tower', 'activo': 'Sim', 'membros': [{'nome': 'SuperMan', 'idade': 29, 'identidadeSecreta': 'Clart Kent', 'poderes': ['Super força', 'Super velocidade', 'Raio laser', 'Voar']}, {'nome': 'Batman', 'idade': 35, 'identidadeSecreta': 'Bruce Wayne', 'poderes': ['Detective', 'Dinheiro']}, {'nome': 'Wonder Woman', 'idade': 900, 'identidadeSecreta': 'Diana de Temiscira', 'poderes': ['Super força', 'Super velocidade', 'Laço da verdade']}]} <class 'dict'>\n",
      "{\"nomedaEquipa\": \"Super Hero Squad\", \"cidade\": \"Metro City\", \"formado\": 2016, \"baseSecreta\": \"Super Tower\", \"activo\": \"Sim\", \"membros\": [{\"nome\": \"SuperMan\", \"idade\": 29, \"identidadeSecreta\": \"Clart Kent\", \"poderes\": [\"Super força\", \"Super velocidade\", \"Raio laser\", \"Voar\"]}, {\"nome\": \"Batman\", \"idade\": 35, \"identidadeSecreta\": \"Bruce Wayne\", \"poderes\": [\"Detective\", \"Dinheiro\"]}, {\"nome\": \"Wonder Woman\", \"idade\": 900, \"identidadeSecreta\": \"Diana de Temiscira\", \"poderes\": [\"Super força\", \"Super velocidade\", \"Laço da verdade\"]}]} <class 'str'>\n"
     ]
    }
   ],
   "source": [
    "# Completa o exercicio aqui\n",
    "import json\n",
    "for item in superherois['membros']:\n",
    "    if item['nome'] == 'SuperMan' and 'Voar' not in item['poderes']:\n",
    "        item['poderes'].append('Voar')\n",
    "    if item['nome'] == 'Batman':\n",
    "        item['idade'] = 35\n",
    "        if 'Raio laser' in item['poderes']:\n",
    "            item['poderes'].remove(\"Raio laser\")\n",
    "    if item['nome'] == 'Wonder Woman' and 'Laço da verdade' not in item['poderes']:\n",
    "        item['poderes'].append('Laço da verdade')\n",
    "print(superherois, type(superherois))\n",
    "superherois_json = json.dumps(superherois, ensure_ascii=False)\n",
    "print(superherois_json, type(superherois_json))\n"
   ]
  },
  {
   "cell_type": "markdown",
   "metadata": {},
   "source": [
    "4) Com base no exercício anterior, modificar a estrutura de **super_herois** para conseguir que **membros** tenham dois ramos: \"membrosAtivos\" e \"membrosInativos\", onde cada um destes ramos, armazenem os heróis que estão no ativo e os que não. Neste caso, introduzimos SuperMan e WonderWoman na lista de ativos e Batman na de inativos. Esta modificação podemos fazê-la como quisermos: ou programando as estruturas de dados e adicionar ao JSON ou fazer a alteração diretamente no JSON. Ao finalizar, podemos comprovar o nosso JSON num visualizador online.(http://jsonviewer.stack.hu/)"
   ]
  },
  {
   "cell_type": "code",
   "execution_count": 178,
   "metadata": {},
   "outputs": [
    {
     "name": "stdout",
     "output_type": "stream",
     "text": [
      "{\"nomedaEquipa\": \"Super Hero Squad\", \"cidade\": \"Metro City\", \"formado\": 2016, \"baseSecreta\": \"Super Tower\", \"membros\": {\"membrosAtivos\": [{\"nome\": \"SuperMan\", \"idade\": 29, \"identidadeSecreta\": \"Clart Kent\", \"poderes\": [\"Super força\", \"Super velocidade\", \"Raio laser\", \"Voar\"]}, {\"nome\": \"Wonder Woman\", \"idade\": 900, \"identidadeSecreta\": \"Diana de Temiscira\", \"poderes\": [\"Super força\", \"Super velocidade\", \"Laço da verdade\"]}], \"membrosInativos\": [{\"nome\": \"Batman\", \"idade\": 35, \"identidadeSecreta\": \"Bruce Wayne\", \"poderes\": [\"Detective\", \"Dinheiro\"]}]}}\n"
     ]
    }
   ],
   "source": [
    "# Completa o exercicio aqui\n",
    "import json\n",
    "superherois_novo = superherois.copy()\n",
    "superherois_novo.pop(\"activo\")\n",
    "membros_novo = {\"membrosAtivos\": [], \"membrosInativos\": []}\n",
    "for item in superherois_novo['membros']:\n",
    "    if item['nome'] == \"SuperMan\" or item['nome'] == \"Wonder Woman\":\n",
    "        membros_novo['membrosAtivos'].append(item)\n",
    "    if item['nome'] == \"Batman\":\n",
    "        membros_novo['membrosInativos'].append(item)\n",
    "superherois_novo['membros'] = membros_novo\n",
    "superherois_novo_json = json.dumps(superherois_novo, ensure_ascii=False)\n",
    "print(superherois_novo_json)\n",
    "# https://imgur.com/cQ7BCUt.png\n",
    "# https://imgur.com/J8EbiKm.png\n"
   ]
  },
  {
   "cell_type": "markdown",
   "metadata": {},
   "source": [
    "5) No seguinte código, aceder a um JSON de forma remota. A partir da resposta, fazer o seguinte:\n",
    "\n",
    "* Mostrar o tipo de dados que se recebeu.\n",
    "* Expor os dados recebidos.\n",
    "* Mostrar o número de pessoas que se encontram atualmente na estrutura.\n",
    "* Fazer um ciclo que percorra todas essas pessoas e mostre os seus detalhes (nome, armazém, etc) no qual  se encontra.\n"
   ]
  },
  {
   "cell_type": "code",
   "execution_count": 179,
   "metadata": {},
   "outputs": [
    {
     "name": "stdout",
     "output_type": "stream",
     "text": [
      "Tipo de dados recebido: <class 'dict'>\n",
      "Dados recebidos:\n",
      "{'message': 'success', 'people': [{'name': 'Cai Xuzhe', 'craft': 'Tiangong'}, {'name': 'Chen Dong', 'craft': 'Tiangong'}, {'name': 'Liu Yang', 'craft': 'Tiangong'}, {'name': 'Sergey Prokopyev', 'craft': 'ISS'}, {'name': 'Dmitry Petelin', 'craft': 'ISS'}, {'name': 'Frank Rubio', 'craft': 'ISS'}, {'name': 'Nicole Mann', 'craft': 'ISS'}, {'name': 'Josh Cassada', 'craft': 'ISS'}, {'name': 'Koichi Wakata', 'craft': 'ISS'}, {'name': 'Anna Kikina', 'craft': 'ISS'}], 'number': 10}\n",
      "\n",
      "Número de pessoas: 10\n",
      "\n",
      "Informações de cada pessoa no espaço atualmente:\n",
      "\n",
      "Nome: Cai Xuzhe           Armazém: Tiangong\n",
      "Nome: Chen Dong           Armazém: Tiangong\n",
      "Nome: Liu Yang            Armazém: Tiangong\n",
      "Nome: Sergey Prokopyev    Armazém: ISS\n",
      "Nome: Dmitry Petelin      Armazém: ISS\n",
      "Nome: Frank Rubio         Armazém: ISS\n",
      "Nome: Nicole Mann         Armazém: ISS\n",
      "Nome: Josh Cassada        Armazém: ISS\n",
      "Nome: Koichi Wakata       Armazém: ISS\n",
      "Nome: Anna Kikina         Armazém: ISS\n"
     ]
    }
   ],
   "source": [
    "from pip._vendor import requests\n",
    "\n",
    "\n",
    "# API que nos comunica quantas pessoas se encontram atualmente no espaço\n",
    "response = requests.get(\"http://api.open-notify.org/astros.json\")\n",
    "data = response.json()\n",
    "\n",
    "# Completar o exercício.\n",
    "print(\"Tipo de dados recebido:\", type(data))\n",
    "print(\"Dados recebidos:\")\n",
    "print(data)\n",
    "# Há 2 meios simples de obter o número de pessoas\n",
    "# print(\"Número de pessoas:\", len(data['people']))\n",
    "print(\"\\nNúmero de pessoas:\", data['number'])\n",
    "print(\"\\nInformações de cada pessoa no espaço atualmente:\\n\")\n",
    "for pessoa in data['people']:\n",
    "    print(f\"Nome: {pessoa['name']:<20}Armazém: {pessoa['craft']}\")\n"
   ]
  }
 ],
 "metadata": {
  "anaconda-cloud": {},
  "kernelspec": {
   "display_name": "Python 3.10.8 64-bit",
   "language": "python",
   "name": "python3"
  },
  "language_info": {
   "codemirror_mode": {
    "name": "ipython",
    "version": 3
   },
   "file_extension": ".py",
   "mimetype": "text/x-python",
   "name": "python",
   "nbconvert_exporter": "python",
   "pygments_lexer": "ipython3",
   "version": "3.10.8"
  },
  "vscode": {
   "interpreter": {
    "hash": "e7370f93d1d0cde622a1f8e1c04877d8463912d04d973331ad4851f04de6915a"
   }
  }
 },
 "nbformat": 4,
 "nbformat_minor": 1
}
