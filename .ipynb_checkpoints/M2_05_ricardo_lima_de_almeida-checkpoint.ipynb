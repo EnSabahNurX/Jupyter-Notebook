{
 "cells": [
  {
   "cell_type": "markdown",
   "metadata": {},
   "source": [
    "# Exercícios Módulo 2. Controlo de fluxo (Soluções)\n",
    "\n",
    "Considerações a ter em conta:\n",
    "\n",
    "* Guardar este documento com o seguinte formato para entrega: __M2_05_nome_apelido1_apelido2__\n",
    "* Fazer os exercícios com as ferramentas vistas nas sessões. \n",
    "* Comentar o código\n",
    "* Utilizar nomes de variáveis apropriados, se vai guardar uma nota, chamar a essa variável nota, não n ou x"
   ]
  },
  {
   "cell_type": "markdown",
   "metadata": {},
   "source": [
    "## Exercícios de controlo de fluxo"
   ]
  },
  {
   "cell_type": "markdown",
   "metadata": {},
   "source": [
    "**1) Fazer um programa que leia três números por teclado e permitir avaliar o seguinte:** \n",
    "\n",
    "* Se os números estão por ordem ascendente\n",
    "* Se os números não estão por ordem ascendente\n",
    "* Se há um erro devido a que o primeiro número introduzido é 0"
   ]
  },
  {
   "cell_type": "code",
   "execution_count": 5,
   "metadata": {},
   "outputs": [
    {
     "name": "stdout",
     "output_type": "stream",
     "text": [
      "Introduza um número: (1/3)\n",
      "2\n",
      "Introduza um número: (2/3)\n",
      "2\n",
      "Introduza um número: (3/3)\n",
      "2\n",
      "\n",
      "Os números não estão por ordem ascendente\n"
     ]
    }
   ],
   "source": [
    "# Completar o exercício aqui\n",
    "lista_numeros = list()\n",
    "cnt = 0\n",
    "limite = 3\n",
    "while (cnt < limite):\n",
    "    lista_numeros.append(float(input(f\"Introduza um número: ({cnt + 1}/{limite})\\n\")))\n",
    "    cnt += 1\n",
    "if lista_numeros[0] == 0:    \n",
    "    print(\"\\nErro! O primeiro número introduzido é 0\")\n",
    "else:\n",
    "    for index in range(1,len(lista_numeros)):\n",
    "        if lista_numeros[index] <= lista_numeros[index -1]:\n",
    "            print(\"\\nOs números não estão por ordem ascendente\")\n",
    "            break\n",
    "    else:\n",
    "        print(\"Os números estão por ordem ascendente\")\n"
   ]
  },
  {
   "cell_type": "markdown",
   "metadata": {},
   "source": [
    "**2) Fazer um programa que realize o somatório dos primeiros N números, começando em 0, e sendo N o número limite que o utilizador proporciona por teclado:** \n",
    "* Exemplo de número limite introduzido pelo utilizador: 5\n",
    "* somatório = 0 + 1 + 2 + 3 + 4 (somamos os 5 primeiros números)"
   ]
  },
  {
   "cell_type": "code",
   "execution_count": 19,
   "metadata": {},
   "outputs": [
    {
     "name": "stdout",
     "output_type": "stream",
     "text": [
      "Introduza um número limite para o somatório dos primeiros N números:\n",
      "10\n",
      "\n",
      "Somatório = 0 + 1 + 2 + 3 + 4 + 5 + 6 + 7 + 8 + 9 = 45\n"
     ]
    }
   ],
   "source": [
    "# Completar o exercício aqui\n",
    "N = int(input(f\"Introduza um número limite para o somatório dos primeiros N números:\\n\"))\n",
    "numeros = list(range(N))\n",
    "somatorio = sum(numeros)\n",
    "print(\"\\nSomatório =\", end=\" \")\n",
    "for index in range(len(numeros) - 1):\n",
    "    print(f\"{numeros[index]}\",end=\" + \" )\n",
    "else:\n",
    "    print(f\"{numeros[-1]} = {somatorio}\")"
   ]
  },
  {
   "cell_type": "markdown",
   "metadata": {},
   "source": [
    "**3) Fazer um programa que leia dois números por teclado e mostre o seguinte menu:** \n",
    "\n",
    "* Mostrar uma soma dos dois números\n",
    "* Mostrar um resto dos dois números (o primeiro menos o segundo) \n",
    "* Mostrar uma multiplicação dos dois números\n",
    "* Em caso de não introduzir uma opção válida, o programa irá informar que não é correta"
   ]
  },
  {
   "cell_type": "code",
   "execution_count": 31,
   "metadata": {},
   "outputs": [
    {
     "name": "stdout",
     "output_type": "stream",
     "text": [
      "Introduza o primeiro número:5\n",
      "Introduza o segundo número:6\n",
      "\n",
      "    \n",
      "Por favor digite uma das opções abaixo:\n",
      "1 - Exibir a soma dos dois números;\n",
      "2 - Exibir a diferença entre os dois números;\n",
      "3 - Exibir o produto dos dois números;\n",
      "4 - Sair do programa.\n",
      "\n",
      "5\n",
      "\n",
      "Sinto muito, esta opção não é válida. Por favor, tente novamente.\n",
      "\n",
      "    \n",
      "Por favor digite uma das opções abaixo:\n",
      "1 - Exibir a soma dos dois números;\n",
      "2 - Exibir a diferença entre os dois números;\n",
      "3 - Exibir o produto dos dois números;\n",
      "4 - Sair do programa.\n",
      "\n",
      "1\n",
      "\n",
      "A soma dos dois números é 11.0.\n",
      "\n",
      "    \n",
      "Por favor digite uma das opções abaixo:\n",
      "1 - Exibir a soma dos dois números;\n",
      "2 - Exibir a diferença entre os dois números;\n",
      "3 - Exibir o produto dos dois números;\n",
      "4 - Sair do programa.\n",
      "\n",
      "2\n",
      "\n",
      "A diferença entre os dois números é -1.0.\n",
      "\n",
      "    \n",
      "Por favor digite uma das opções abaixo:\n",
      "1 - Exibir a soma dos dois números;\n",
      "2 - Exibir a diferença entre os dois números;\n",
      "3 - Exibir o produto dos dois números;\n",
      "4 - Sair do programa.\n",
      "\n",
      "3\n",
      "\n",
      "O produto dos dois números é 30.0.\n",
      "\n",
      "    \n",
      "Por favor digite uma das opções abaixo:\n",
      "1 - Exibir a soma dos dois números;\n",
      "2 - Exibir a diferença entre os dois números;\n",
      "3 - Exibir o produto dos dois números;\n",
      "4 - Sair do programa.\n",
      "\n",
      "4\n",
      "\n",
      "Obrigado por utilizar o programa e até breve!.\n"
     ]
    }
   ],
   "source": [
    "# Completar o exercício aqui\n",
    "numeroA = float(input(\"Introduza o primeiro número:\"))\n",
    "numeroB = float(input(\"Introduza o segundo número:\"))\n",
    "while(True):\n",
    "    option = int(input('''\n",
    "    \n",
    "Por favor digite uma das opções abaixo:\n",
    "1 - Exibir a soma dos dois números;\n",
    "2 - Exibir a diferença entre os dois números;\n",
    "3 - Exibir o produto dos dois números;\n",
    "4 - Sair do programa.\n",
    "\n",
    "'''))\n",
    "    if option == 1:\n",
    "        print(f\"\\nA soma dos dois números é {numeroA + numeroB}.\")\n",
    "    elif option == 2:\n",
    "        print(f\"\\nA diferença entre os dois números é {numeroA - numeroB}.\")\n",
    "    elif option == 3:\n",
    "        print(f\"\\nO produto dos dois números é {numeroA * numeroB}.\")\n",
    "    elif option == 4:\n",
    "        print(\"\\nObrigado por utilizar o programa e até breve!.\")\n",
    "        break\n",
    "    else:\n",
    "        print(\"\\nSinto muito, esta opção não é válida. Por favor, tente novamente.\")"
   ]
  },
  {
   "cell_type": "markdown",
   "metadata": {},
   "source": [
    "**4) Fazer um programa que leia letras e conte com uma variável contadora as letras “a” que se introduzem. Para sair do programa, introduzir o carácter “.”. Ao finalizar mostrar o número de vezes que se pressionou a letra “a”**"
   ]
  },
  {
   "cell_type": "code",
   "execution_count": 43,
   "metadata": {},
   "outputs": [
    {
     "name": "stdout",
     "output_type": "stream",
     "text": [
      "Digite qualquer palavra/texto: (Para finalizar introduzir um (\".\") em alguma parte do texto.)\n",
      "Ao digitar qualquer letra 'a' ou palavra e texto contendo a letra 'a'\n",
      "será feito uma contagem\n",
      "e ao final saberemos finalmente\n",
      "quantas letras 'a' foram digitadas no programa.\n",
      "\n",
      "A letra 'a' foi utilizada 27 vez(es).\n"
     ]
    }
   ],
   "source": [
    "# Completar o exercício aqui\n",
    "contador_a = 0\n",
    "print(\"Digite qualquer palavra/texto: (Para finalizar introduzir um (\\\".\\\") em alguma parte do texto.)\")\n",
    "while(True):\n",
    "    texto = input().lower()\n",
    "    contador_a += texto.count('a')\n",
    "    contador_a += texto.count('á')\n",
    "    contador_a += texto.count('à')\n",
    "    contador_a += texto.count('ã')\n",
    "    contador_a += texto.count('â')\n",
    "    if \".\" in texto:\n",
    "        break\n",
    "print(f\"\\nA letra 'a' foi utilizada {contador_a} vez(es).\")"
   ]
  },
  {
   "cell_type": "markdown",
   "metadata": {},
   "source": [
    "**5)  Fazer um programa que leia por teclado um número ímpar. Deve repetir-se o processo enquanto o utilizador continue a introduzir números ímpares. Quando introduzir um número par, o programa irá parar.**"
   ]
  },
  {
   "cell_type": "code",
   "execution_count": 47,
   "metadata": {},
   "outputs": [
    {
     "name": "stdout",
     "output_type": "stream",
     "text": [
      "Introduza um número ímpar para continuar ou um número par para finalizar o programa:1\n",
      "Introduza um número ímpar para continuar ou um número par para finalizar o programa:3\n",
      "Introduza um número ímpar para continuar ou um número par para finalizar o programa:5\n",
      "Introduza um número ímpar para continuar ou um número par para finalizar o programa:7\n",
      "Introduza um número ímpar para continuar ou um número par para finalizar o programa:9\n",
      "Introduza um número ímpar para continuar ou um número par para finalizar o programa:10\n"
     ]
    }
   ],
   "source": [
    "# Completar o exercício aqui\n",
    "while(True):\n",
    "    impar = int(input(\"Introduza um número ímpar para continuar ou um número par para finalizar o programa:\"))\n",
    "    if impar % 2 == 0:\n",
    "        break"
   ]
  },
  {
   "cell_type": "markdown",
   "metadata": {},
   "source": [
    "**6) Fazer um programa que some todos os números pares desde 0 até 100:**\n",
    "\n",
    "*Sugestão: pode utilizar as funções sum() e range() para o tornar mais fácil. O terceiro parâmetro na função range (início, fim, salto) indica um salto de números, experimente-o*"
   ]
  },
  {
   "cell_type": "code",
   "execution_count": 51,
   "metadata": {},
   "outputs": [
    {
     "name": "stdout",
     "output_type": "stream",
     "text": [
      "2550\n"
     ]
    }
   ],
   "source": [
    "# Completar o exercício aqui\n",
    "inicio = 0\n",
    "fim = 100\n",
    "print(sum([num for num in range(inicio,fim + 1) if num % 2 == 0]))"
   ]
  },
  {
   "cell_type": "markdown",
   "metadata": {},
   "source": [
    "**7)  Fazer um programa que solicite ao utilizador um número que representa o total de números que se vão introduzir. Posteriormente, ler todos esses números e fazer a média aritmética de todos eles:**"
   ]
  },
  {
   "cell_type": "code",
   "execution_count": 55,
   "metadata": {},
   "outputs": [
    {
     "name": "stdout",
     "output_type": "stream",
     "text": [
      "Informe quantos números deseja inserir para o cálculo da média aritmética:\n",
      "4\n",
      "(1/4):81\n",
      "(2/4):75\n",
      "(3/4):93\n",
      "(4/4):69\n",
      "\n",
      "Média aritmética: 79.50\n"
     ]
    }
   ],
   "source": [
    "# Completar o exercício aqui\n",
    "vezes = int(input(\"Informe quantos números deseja inserir para o cálculo da média aritmética:\\n\"))\n",
    "numeros = []\n",
    "for num in range(vezes):\n",
    "    numeros.append(int(input(f\"({num + 1}/{vezes}):\")))\n",
    "print(f\"\\nMédia aritmética: {(sum(numeros)/len(numeros)):.2f}\")"
   ]
  },
  {
   "cell_type": "markdown",
   "metadata": {},
   "source": [
    "**8) Fazer um programa que solicite ao utilizador um número inteiro de 0 a 9, e que enquanto o número não seja correto se repita o processo. Logo deve comprovar se o número se encontra na lista de números e notificá-lo:**\n",
    "\n",
    "*Conselho: a sintaxis “valor in lista” permite comprovar facilmente se um valor se encontra numa lista (devolver True ou False)*"
   ]
  },
  {
   "cell_type": "code",
   "execution_count": 57,
   "metadata": {},
   "outputs": [
    {
     "name": "stdout",
     "output_type": "stream",
     "text": [
      "Informe um número inteiro de 0 a 9:\n",
      "-1\n",
      "Ops, por favor tente novamente com um número inteiro de 0 a 9:\n",
      "11\n",
      "Ops, por favor tente novamente com um número inteiro de 0 a 9:\n",
      "6\n",
      "Muito bem, este número encontra-se na lista!\n"
     ]
    }
   ],
   "source": [
    "# Completar o exercício aqui\n",
    "numeros = [1, 3, 6, 9]\n",
    "print(\"Informe um número inteiro de 0 a 9:\")\n",
    "while(True):\n",
    "    inserido = int(input())\n",
    "    if inserido <= 9 and inserido >= 0:\n",
    "        break\n",
    "    else:\n",
    "        print(\"Ops, por favor tente novamente com um número inteiro de 0 a 9:\")\n",
    "if inserido in numeros:\n",
    "    print(\"Muito bem, este número encontra-se na lista!\")\n",
    "else:\n",
    "    print(\"Desculpe, este número não pertence a lista.\")"
   ]
  },
  {
   "cell_type": "markdown",
   "metadata": {},
   "source": [
    "**9) Fazer um programa que utilize a função range() e a conversão para listas gera as seguintes listas dinamicamente (e mostrá-las com print):**\n",
    "\n",
    "* Todos os números de 0 a 10 [0, 1, 2, ..., 10]\n",
    "* Todos os números de -10 a 0 [-10, -9, -8, ..., 0]\n",
    "* Todos os números pares de 0 a 20 [0, 2, 4, ..., 20]\n",
    "* Todos os números ímpares entre -20 e 0 [-19, -17, -15, ..., -1]\n",
    "* Todos os números múltiplos de 5 a 50 [0, 5, 10, ..., 50]\n",
    "\n",
    "*Pista: utilizar o terceiro parâmetro da função range (início, fim, salto).*"
   ]
  },
  {
   "cell_type": "code",
   "execution_count": 60,
   "metadata": {},
   "outputs": [
    {
     "name": "stdout",
     "output_type": "stream",
     "text": [
      "[0, 1, 2, 3, 4, 5, 6, 7, 8, 9, 10]\n",
      "[-10, -9, -8, -7, -6, -5, -4, -3, -2, -1, 0]\n",
      "[0, 2, 4, 6, 8, 10, 12, 14, 16, 18, 20]\n",
      "[-19, -17, -15, -13, -11, -9, -7, -5, -3, -1]\n",
      "[0, 5, 10, 15, 20, 25, 30, 35, 40, 45, 50]\n"
     ]
    }
   ],
   "source": [
    "# Completar o exercício aqui\n",
    "print([i for i in range(0,11)])\n",
    "print([i for i in range(-10,1)])\n",
    "print([i for i in range(0,21) if i % 2 == 0])\n",
    "print([i for i in range(-20,1)  if i % 2 == 1])\n",
    "print([i for i in range(0,51) if i % 5 == 0])\n"
   ]
  },
  {
   "cell_type": "markdown",
   "metadata": {},
   "source": [
    "**10) Fazer um programa que dadas duas listas, gera uma terceira lista com todos os elementos que se repitam nelas, mas não deve repetir-se nenhum elemento na nova lista:**"
   ]
  },
  {
   "cell_type": "code",
   "execution_count": 77,
   "metadata": {},
   "outputs": [
    {
     "name": "stdout",
     "output_type": "stream",
     "text": [
      "['u', 'o', ' ', 'a', 'l']\n",
      "['t', 'n', 'h', 'p', 'e', 'o', 'd', 'r', 'm', 'l', 'P', ' ', 'a', 'y', 'i', 'ã']\n"
     ]
    }
   ],
   "source": [
    "# Completar o exercício aqui\n",
    "lista_1 = [\"o\",'l','a',' ', 'm','u','n','d','o']\n",
    "lista_2 = [\"o\",'l','a',' ', 'l','u','a'] \n",
    "lista_3 = [element for element in set(lista_1) if element in set(lista_2)]\n",
    "print(lista_3)\n",
    "# outro exemplo para praticar\n",
    "lista_4 = [a for a in \"Python é uma linguagem de programação muito popular\"]\n",
    "lista_5 = [b for b in \"É fantástico o modo de compressão de Python ao trabalhar com listas\"]\n",
    "lista_6 = [item for item in set(lista_4) if item in set(lista_5)]\n",
    "print(lista_6)"
   ]
  }
 ],
 "metadata": {
  "anaconda-cloud": {},
  "kernelspec": {
   "display_name": "Python 3 (ipykernel)",
   "language": "python",
   "name": "python3"
  },
  "language_info": {
   "codemirror_mode": {
    "name": "ipython",
    "version": 3
   },
   "file_extension": ".py",
   "mimetype": "text/x-python",
   "name": "python",
   "nbconvert_exporter": "python",
   "pygments_lexer": "ipython3",
   "version": "3.10.6"
  }
 },
 "nbformat": 4,
 "nbformat_minor": 1
}
