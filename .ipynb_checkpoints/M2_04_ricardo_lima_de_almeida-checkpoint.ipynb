{
 "cells": [
  {
   "cell_type": "markdown",
   "metadata": {},
   "source": [
    "# Exercícios Módulo 2. Entrada e saída de dados (Soluções)\n",
    "\n",
    "Considerações a ter em conta:\n",
    "\n",
    "* Guardar este documento com o seguinte formato para entrega: __M2_04_nome_apelido1_apelido2__\n",
    "* Fazer os exercícios com as ferramentas vistas nas sessões. Ainda não chegámos às condicionais nem ciclos \n",
    "* Comentar o código\n",
    "* Utilizar nomes de variáveis apropriados, se vai guardar uma nota, chamar a essa variável nota, não n ou x"
   ]
  },
  {
   "cell_type": "markdown",
   "metadata": {},
   "source": [
    "**1) Utilizar o método input() para fazer as seguintes tarefas:**\n",
    "\n",
    "* Pedir um número por teclado, mostrar o resultado e o tipo (para saber em que tipo de dado captura a informação input()) \n",
    "* Pedir um número por teclado e assegurar que capturamos a informação em formato int\n",
    "* Pedir um número por teclado e assegurar-se de que capturamos a informação en formato float"
   ]
  },
  {
   "cell_type": "code",
   "execution_count": 3,
   "metadata": {},
   "outputs": [
    {
     "name": "stdout",
     "output_type": "stream",
     "text": [
      "Digite um número:\n",
      "10\n",
      "10\n",
      "<class 'str'>\n",
      "Digite um número inteiro:\n",
      "5\n",
      "5\n",
      "<class 'int'>\n",
      "Digite um número decimal:\n",
      "2.6\n",
      "2.6\n",
      "<class 'float'>\n"
     ]
    }
   ],
   "source": [
    "# Completar o exercício aqui\n",
    "num1 = input(\"Digite um número:\\n\")\n",
    "print(num1)\n",
    "print(type(num1))\n",
    "num2 = int(input(\"Digite um número inteiro:\\n\"))\n",
    "print(num2)\n",
    "print(type(num2))\n",
    "num3 = float(input(\"Digite um número decimal:\\n\"))\n",
    "print(num3)\n",
    "print(type(num3))"
   ]
  },
  {
   "cell_type": "markdown",
   "metadata": {},
   "source": [
    "\n",
    "**2) Formatar os seguintes valores para mostrar o resultado indicado:**\n",
    "\n",
    "* “Olá Mundo” → Alinhado à direita em 20 caracteres\n",
    "* “Olá Mundo” → Truncagem no quarto carácter (índice 3)\n",
    "* “Olá Mundo” → Alinhamento ao centro em 20 caracteres com truncagem no segundo carácter (índice 1) \n",
    "* 150 → Formatar a 5 números inteiros preenchidos com zeros\n",
    "* 7887 → Formatar a 7 números inteiros preenchidos com espaços\n",
    "* 20.02 → Formatar a 3 números inteiros e 3 números decimais"
   ]
  },
  {
   "cell_type": "code",
   "execution_count": 18,
   "metadata": {},
   "outputs": [
    {
     "name": "stdout",
     "output_type": "stream",
     "text": [
      "           Olá Mundo\n",
      "Olá\n",
      "         O          \n",
      "00150\n",
      "   7887\n",
      "020.020\n"
     ]
    }
   ],
   "source": [
    "# Completar o exercício aqui\n",
    "print(f'{\"Olá Mundo\":>20}')\n",
    "print(f'{\"Olá Mundo\":.3}')\n",
    "print(f'{\"Olá Mundo\":^20.1}')\n",
    "print(f'{150:05d}')\n",
    "print(f'{7887: 7d}')\n",
    "print(f'{20.02:07.3f}')"
   ]
  }
 ],
 "metadata": {
  "anaconda-cloud": {},
  "kernelspec": {
   "display_name": "Python 3 (ipykernel)",
   "language": "python",
   "name": "python3"
  },
  "language_info": {
   "codemirror_mode": {
    "name": "ipython",
    "version": 3
   },
   "file_extension": ".py",
   "mimetype": "text/x-python",
   "name": "python",
   "nbconvert_exporter": "python",
   "pygments_lexer": "ipython3",
   "version": "3.10.6"
  }
 },
 "nbformat": 4,
 "nbformat_minor": 1
}
