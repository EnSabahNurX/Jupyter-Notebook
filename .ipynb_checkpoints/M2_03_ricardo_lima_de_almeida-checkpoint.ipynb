{
 "cells": [
  {
   "cell_type": "markdown",
   "metadata": {},
   "source": [
    "# Exercícios Módulo 2. Tipos avançados\n",
    "\n",
    "Considerações a ter em conta:\n",
    "\n",
    "* Guardar este documento com o seguinte formato para entrega: __M2_03_nome_apelido1_apelido2__ \n",
    "* Fazer os exercícios com as ferramentas vistas nas sessões. Ainda não chegámos às condicionais nem ciclos \n",
    "* Comentar o código\n",
    "* Utilizar nomes de variáveis apropriados, se vai guardar uma nota, chamar a essa variável nota, não n ou x"
   ]
  },
  {
   "cell_type": "markdown",
   "metadata": {},
   "source": [
    "## Exercícios de tipos avançados"
   ]
  },
  {
   "cell_type": "markdown",
   "metadata": {},
   "source": [
    "**1) Trabalhar com listas e tuplas**\n",
    "\n",
    "* Criar uma lista e uma tupla que contenha strings (pelo menos 3 elementos). Será de temática livre, sobre o que quiser: veículos, comida, música, etc.\n",
    "* Imprimir a lista e a tupla.\n",
    "* Imprimir o 2.º elemento da lista e o penúltimo da tupla.\n",
    "* Modificar (se puder) algum elemento da lista e da tupla. E imprimir o resultado novamente.\n",
    "* Mostrar o tamanho da lista e da tupla.\n",
    "* Procurar um elemento dentro da lista e da tupla. Mostrar se nos devolve True ou False.\n",
    "* Adicionar (se puder) algum elemento à lista e à tupla. Mostrar a lista e a tupla novamente para verificar se a ação foi realizada corretamente.\n",
    "* Apagar ou eliminar (se puder) o conteúdo da lista e da tupla. Imprimir a lista e a tupla novamente para verificar se a ação foi realizada corretamente.\n"
   ]
  },
  {
   "cell_type": "code",
   "execution_count": 62,
   "metadata": {},
   "outputs": [
    {
     "name": "stdout",
     "output_type": "stream",
     "text": [
      "['laranja', 'maçã', 'banana', 'pera', 'melancia']\n",
      "('batata', 'cenoura', 'beterraba', 'pepino', 'cebola')\n",
      "maçã\n",
      "pepino\n",
      "['laranja', 'maçã', 'pêssego', 'pera', 'melancia']\n",
      "('batata', 'cenoura', 'beterraba', 'pepino', 'cebola')\n",
      "5\n",
      "5\n",
      "True\n",
      "False\n",
      "['laranja', 'maçã', 'pêssego', 'pera', 'melancia', 'uva']\n",
      "('batata', 'cenoura', 'beterraba', 'pepino', 'cebola', 'feijão')\n",
      "['laranja', 'maçã', 'pêssego', 'pera', 'melancia']\n",
      "[]\n",
      "()\n"
     ]
    }
   ],
   "source": [
    "# Completar o exercício aqui\n",
    "\n",
    "# Criação\n",
    "lista_frutas = [\"laranja\",\"maçã\",\"banana\",\"pera\",\"melancia\"]\n",
    "tupla_legumes = (\"batata\",\"cenoura\",\"beterraba\",\"pepino\",\"cebola\")\n",
    "\n",
    "# Mostrar\n",
    "print(lista_frutas)\n",
    "print(tupla_legumes)\n",
    "\n",
    "# Mostrar elementos específicos\n",
    "print(lista_frutas[1])\n",
    "print(tupla_legumes[-2])\n",
    "\n",
    "# Modificar\n",
    "lista_frutas[2] = \"pêssego\"\n",
    "#tupla_legumes[1] = \"feijão\" # os elementos das tuplas não são modificáveis, qualquer tentativa de alteração dos mesmos produzirá um erro\n",
    "print(lista_frutas)\n",
    "print(tupla_legumes)\n",
    "\n",
    "# Tamanho\n",
    "print(len(lista_frutas))\n",
    "print(len(tupla_legumes))\n",
    "\n",
    "# Pesquisa de elementos\n",
    "print(\"maçã\" in lista_frutas)\n",
    "print(\"feijão\" in tupla_legumes)\n",
    "\n",
    "# Adicionar elementos\n",
    "lista_frutas.append(\"uva\")\n",
    "tupla_legumes += (\"feijão\",)\n",
    "print(lista_frutas)\n",
    "print(tupla_legumes)\n",
    "\n",
    "# Apagado\n",
    "lista_frutas.pop()\n",
    "print(lista_frutas)\n",
    "lista_frutas.clear()\n",
    "temp = list(tupla_legumes) # é possível fazer um reset atribuido () para a tupla, porém é recomendado fazer por meio de funções\n",
    "temp.clear()\n",
    "tupla_legumes = tuple(temp)\n",
    "print(lista_frutas)\n",
    "print(tupla_legumes)\n"
   ]
  },
  {
   "cell_type": "markdown",
   "metadata": {},
   "source": [
    "**2) Trabalhar com sets e dicionários**\n",
    "\n",
    "* Criar um set e um dicionário que contenham strings (pelo menos 3 elementos no caso do set e 3 conjuntos de chave: valor no caso do dicionário). Temática livre, sobre o que quiser, veículos, comida, música, etc.\n",
    "* Mostrar o set e o dicionário\n",
    "* Mostrar (se puder) o 2º elemento do set e o valor da primeira chave-valor do dicionário \n",
    "* Modificar (se puder) algum elemento do set ou do dicionário. E mostrar o resultado \n",
    "* Mostrar o tamanho do set e do dicionário\n",
    "* Fazer uma pesquisa de um elemento dentro do set e dentro do dicionário. Imprimir o resultado (True ou False).\n",
    "* Adicionar (se puder) algum elemento ao set e alguma chave-valor ao dicionário. Imprimir novamente o set e o dicionário para verificar se a acção foi realizada corretamente.\n",
    "* Apagar ou eliminar (se puder) o conteúdo do set e do dicionário. Imprimir de novo o set e o dicionário para verificar se a acção foi realizada corretamente."
   ]
  },
  {
   "cell_type": "code",
   "execution_count": 25,
   "metadata": {},
   "outputs": [
    {
     "name": "stdout",
     "output_type": "stream",
     "text": [
      "{'Romance', 'Sci-fi', 'Aventura', 'Suspense', 'Terror', 'Ação'}\n",
      "{'rock': \"Guns N' Roses\", 'pop': 'Sia', 'house': 'Alok', 'reggae': 'Bob Marley', 'latin': 'Enrique Iglesias', 'nacional': 'Amália Rodrigues'}\n",
      "Guns N' Roses\n",
      "{'Romance', 'Sci-fi', 'Aventura', 'Suspense', 'Terror', 'Ação'}\n",
      "{'rock': \"Guns N' Roses\", 'pop': 'Sia', 'house': 'Alok', 'reggae': 'Bob Marley', 'latin': 'Enrique Iglesias', 'nacional': 'Ana Moura'}\n",
      "6\n",
      "6\n",
      "False\n",
      "True\n",
      "{'Romance', 'Sci-fi', 'Mystery', 'Aventura', 'Suspense', 'Terror', 'Ação'}\n",
      "{'rock': \"Guns N' Roses\", 'pop': 'Sia', 'house': 'Alok', 'reggae': 'Bob Marley', 'latin': 'Enrique Iglesias', 'nacional': 'Ana Moura', 'classic': 'J. S. Bach'}\n",
      "{'Romance', 'Sci-fi', 'Mystery', 'Aventura', 'Suspense', 'Ação'}\n",
      "{'rock': \"Guns N' Roses\", 'pop': 'Sia', 'house': 'Alok', 'reggae': 'Bob Marley', 'latin': 'Enrique Iglesias', 'nacional': 'Ana Moura'}\n",
      "set()\n",
      "{}\n"
     ]
    }
   ],
   "source": [
    "#  Completar o exercício aqui\n",
    "\n",
    "# Criação\n",
    "set_streaming = {\"Ação\", \"Aventura\", \"Romance\", \"Sci-fi\", \"Suspense\", \"Terror\"}\n",
    "dict_music = {\"rock\": \"Guns N' Roses\", \"pop\":\"Sia\",\"house\":\"Alok\",\"reggae\":\"Bob Marley\",\"latin\":\"Enrique Iglesias\",\"nacional\":\"Amália Rodrigues\"}\n",
    "\n",
    "# Mostrar\n",
    "print(set_streaming)\n",
    "print(dict_music)\n",
    "\n",
    "# Mostrar elementos específicos\n",
    "#print(set_streaming[1]) # Não podemos aceder aos elementos de um conjunto set fazendo referência a um índice, pois os conjuntos não estão ordenados e devido a esse facto, os elementos não têm índice.\n",
    "print(dict_music[\"rock\"])\n",
    "\n",
    "# Modificar\n",
    "#set_streaming[1] = \"Comedy\"  # Uma vez criado um conjunto set não é possível alterar os seus elementos\n",
    "dict_music[\"nacional\"] = \"Ana Moura\"\n",
    "print(set_streaming)\n",
    "print(dict_music)\n",
    "\n",
    "# Tamanho\n",
    "print(len(set_streaming))\n",
    "print(len(dict_music))\n",
    "\n",
    "# Pesquisa de elementos\n",
    "print(\"Mystery\" in set_streaming)\n",
    "print(\"pop\" in dict_music)\n",
    "\n",
    "\n",
    "# Adicionar elementos\n",
    "set_streaming.add(\"Mystery\")\n",
    "dict_music[\"classic\"] = \"J. S. Bach\"\n",
    "print(set_streaming)\n",
    "print(dict_music)\n",
    "\n",
    "# Apagado\n",
    "set_streaming.remove(\"Terror\")\n",
    "dict_music.popitem()\n",
    "print(set_streaming)\n",
    "print(dict_music)\n",
    "set_streaming.clear()\n",
    "dict_music.clear()\n",
    "print(set_streaming)\n",
    "print(dict_music)"
   ]
  },
  {
   "cell_type": "markdown",
   "metadata": {},
   "source": [
    "**3) Fazer um programa que peça ao utilizador 3 números que possam int ou float (não é  necessário fazer ciclos , pode repetir o código).\n",
    "Estes números devem ser  adicionados a uma  lista. Quando se finalizar a introdução dos dados, realizar a soma dos elementos da lista e atribuir a uma variavel com nome \"somatório\" . \n",
    "No final, imprimir o resultado.\n",
    "”**\n",
    "\n",
    "*Ajuda: existe uma função chamada sum(lista) Experimente-a!*"
   ]
  },
  {
   "cell_type": "code",
   "execution_count": 29,
   "metadata": {},
   "outputs": [
    {
     "name": "stdout",
     "output_type": "stream",
     "text": [
      "\n",
      "Digite um número inteiro ou decimal: (1/3)\n",
      "7\n",
      "\n",
      "Digite um número inteiro ou decimal: (2/3)\n",
      "4\n",
      "\n",
      "Digite um número inteiro ou decimal: (3/3)\n",
      "10\n",
      "21.0\n"
     ]
    }
   ],
   "source": [
    "# Completar o exercício aqui\n",
    "lista_numeros = []\n",
    "cnt = 3\n",
    "for x in range(cnt):\n",
    "    lista_numeros.append(float(input(f\"\\nDigite um número inteiro ou decimal: ({x+1}/{cnt})\\n\"))) # solicita dados pelo teclado ao utilizador, converte em decimal e já adiciona à lista\n",
    "somatorio = sum(lista_numeros)\n",
    "print(somatorio)"
   ]
  },
  {
   "cell_type": "markdown",
   "metadata": {},
   "source": [
    "**4) Continuar o exercício anterior; calcular a média aritmética dos elementos da lista e imprimir o resultado.**\n",
    "\n",
    "*Neste caso sabemos que o número de elementos que o utilizador introduziu é 3, mas o objetivo será deixar o programa abstrato,e portanto, não fazer referência ao número 3; deve calcular o numeros de elementos da lista*"
   ]
  },
  {
   "cell_type": "code",
   "execution_count": 28,
   "metadata": {},
   "outputs": [
    {
     "name": "stdout",
     "output_type": "stream",
     "text": [
      "7.0\n"
     ]
    }
   ],
   "source": [
    "# Completar o exercício aqui\n",
    "media_aritmetica = somatorio / len(lista_numeros)\n",
    "print(media_aritmetica)"
   ]
  },
  {
   "cell_type": "markdown",
   "metadata": {},
   "source": [
    "**5) Dada a seguinte matriz (lista com quatro listas como elementos), o objectivo é que em cada sublista, o quarto elemento seja sempre o resultado da soma dos três primeiros elementos. Construa um pequeno programa que realize este cálculo.**\n",
    "\n",
    "Pista: modificar as somas erradas utilizando o slicing\n",
    "\n",
    "\n",
    "* Não vale colocar diretamente os valores (nem os índices nem a soma): \n",
    "* matriz[1][3] = 6\n",
    "* matriz[3][3] = 12\n",
    "* Há que pesquisar uma forma automatizada de aceder e modificar esses valores"
   ]
  },
  {
   "cell_type": "code",
   "execution_count": 30,
   "metadata": {},
   "outputs": [
    {
     "name": "stdout",
     "output_type": "stream",
     "text": [
      "[[1, 1, 1, 3], [2, 2, 2, 6], [3, 3, 3, 9], [4, 4, 4, 12]]\n"
     ]
    }
   ],
   "source": [
    "matriz = [ \n",
    "    [1, 1, 1, 3],\n",
    "    [2, 2, 2, 7],\n",
    "    [3, 3, 3, 9],\n",
    "    [4, 4, 4, 13]\n",
    "]\n",
    "\n",
    "# Completar o exercício aqui\n",
    "for x in range(len(matriz)):\n",
    "    matriz[x][-1] = sum(matriz[x][:-1])\n",
    "print(matriz)"
   ]
  },
  {
   "cell_type": "markdown",
   "metadata": {},
   "source": [
    "**6) Supor que obtém uma string invertida. Esta string contém o nome e a nota de um aluno. Formate este string para obter o seguinte output:**\n",
    "\n",
    "* ***Nome Apelido*** teve um(a) ***Nota*** de nota\n",
    "\n",
    "*Pista: Para inverter uma string usando a técnica de slicing pode-se utilizar um terceiro índice -1: cadeia[::-1]*"
   ]
  },
  {
   "cell_type": "code",
   "execution_count": 41,
   "metadata": {},
   "outputs": [
    {
     "name": "stdout",
     "output_type": "stream",
     "text": [
      "Carlos Perez teve um(a) 10 de nota\n"
     ]
    }
   ],
   "source": [
    "cadeia = \"zereP solraC,01\"\n",
    "\n",
    "# Completar o exercício aqui\n",
    "cadeia_corrigida = cadeia[::-1].split(\",\") # acede a string do final para o começo, ou seja, sentido invertido, após isso separa a string criando uma lista e usa o separador \",\" para definir cada item\n",
    "nota = int(cadeia_corrigida[0]) # usa o primeiro elemento da lista e atribui como a nota\n",
    "nome_aluno = cadeia_corrigida[1] # usa o segundo elemento da lista e atribui como o nome e apelido do aluno\n",
    "print(f\"{nome_aluno} teve um(a) {nota} de nota\")"
   ]
  },
  {
   "cell_type": "markdown",
   "metadata": {},
   "source": [
    "**7) Fazer um programa que cumpra as seguintes instruções:**\n",
    "\n",
    "* Criar um conjunto chamado utilizadores com os utilizadores Marta, David, Elvira, Juan e Marcos \n",
    "* Criar um conjunto chamado administradores com os administradores Juan e Marta.\n",
    "* Apagar o administrador Juan do conjunto de administradores.\n",
    "* Adicionar Marcos como um novo administrador, mas não o apagar do conjunto de utilizadores.\n",
    "* Imprimir todos os utilizadores por ecrã de forma dinâmica (loop); indicar também se os utilizadores são administradores (ou não).\n",
    "\n",
    "Notas: os conjuntos podem ser percorridos dinâmicamente, utilizando o ciclo **for** de forma similar a uma lista. Também contam com um método chamado **.discard (elemento)** que serve para apagar um elemento.\n",
    "* "
   ]
  },
  {
   "cell_type": "code",
   "execution_count": 54,
   "metadata": {},
   "outputs": [
    {
     "name": "stdout",
     "output_type": "stream",
     "text": [
      "Membros do grupo de utilizadores:\n",
      "\n",
      "Marcos\t(Admin)\n",
      "David\n",
      "Marta\t(Admin)\n",
      "Juan\n",
      "Elvira\n"
     ]
    }
   ],
   "source": [
    "# Completar o exercício aqui\n",
    "utilizadores = {\"Marta\", \"David\", \"Elvira\", \"Juan\" , \"Marcos\"}\n",
    "administradores = {\"Juan\", \"Marta\"}\n",
    "administradores.discard(\"Juan\")\n",
    "administradores.add(\"Marcos\")\n",
    "print(\"Membros do grupo de utilizadores:\\n\")\n",
    "for x in utilizadores:\n",
    "    if (x in administradores):\n",
    "        print(f\"{x}\\t(Admin)\")\n",
    "    else:\n",
    "        print(x)"
   ]
  },
  {
   "cell_type": "markdown",
   "metadata": {},
   "source": [
    "**8) Existe um videojogo na qual os atributos das personagens estão  guardadas nos seguintes dicionários:**\n",
    "\n",
    "* cavaleiro = { 'vida':2, 'ataque':2, 'defesa': 2, 'alcance':2 }\n",
    "* guerreiro = { 'vida':2, 'ataque':2, 'defesa': 2, 'alcance':2 }\n",
    "* arqueiro = { 'vida':2, 'ataque':2, 'defesa': 2, 'alcance':2 }\n",
    "\n",
    "Ao passar para o segundo nível do jogo, temos de automaticamente alterar os seus valores:\n",
    "\n",
    "* O cavaleiro terá o dobro de vida e de defesa que um guerreiro.\n",
    "* O guerreiro terá o dobro do ataque e do alcance que um cavaleiro.\n",
    "* O arqueiro terá a mesma vida e ataque que um guerreiro, mas a metade da sua defesa e o dobro do seu alcance.\n",
    "\n",
    "Imprimir como fica os atributos das três personagens.\n"
   ]
  },
  {
   "cell_type": "code",
   "execution_count": 61,
   "metadata": {},
   "outputs": [
    {
     "name": "stdout",
     "output_type": "stream",
     "text": [
      "cavaleiro = {'vida': 4, 'ataque': 2, 'defesa': 4, 'alcance': 2}\n",
      "guerreiro = {'vida': 2, 'ataque': 4, 'defesa': 2, 'alcance': 4}\n",
      "arqueiro = {'vida': 2, 'ataque': 4, 'defesa': 1.0, 'alcance': 8}\n"
     ]
    }
   ],
   "source": [
    "cavaleiro = { 'vida':2, 'ataque':2, 'defesa': 2, 'alcance':2 }\n",
    "guerreiro = { 'vida':2, 'ataque':2, 'defesa': 2, 'alcance':2 }\n",
    "arqueiro  = { 'vida':2, 'ataque':2, 'defesa': 2, 'alcance':2 }\n",
    "\n",
    "# Completar o exercício aqui\n",
    "cavaleiro['vida'], cavaleiro['defesa'] = guerreiro['vida'] * 2, guerreiro['defesa'] * 2\n",
    "guerreiro['ataque'], guerreiro['alcance'] = cavaleiro['ataque'] * 2, cavaleiro['alcance'] * 2\n",
    "arqueiro['vida'], arqueiro['ataque'], arqueiro['defesa'], arqueiro['alcance'] = guerreiro['vida'], guerreiro['ataque'], guerreiro['defesa'] / 2, guerreiro['alcance'] * 2\n",
    "print(\"cavaleiro =\",cavaleiro)\n",
    "print(\"guerreiro =\",guerreiro)\n",
    "print(\"arqueiro =\",arqueiro)"
   ]
  }
 ],
 "metadata": {
  "anaconda-cloud": {},
  "kernelspec": {
   "display_name": "Python 3 (ipykernel)",
   "language": "python",
   "name": "python3"
  },
  "language_info": {
   "codemirror_mode": {
    "name": "ipython",
    "version": 3
   },
   "file_extension": ".py",
   "mimetype": "text/x-python",
   "name": "python",
   "nbconvert_exporter": "python",
   "pygments_lexer": "ipython3",
   "version": "3.10.6"
  }
 },
 "nbformat": 4,
 "nbformat_minor": 1
}
