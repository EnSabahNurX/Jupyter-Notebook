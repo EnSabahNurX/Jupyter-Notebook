{
 "cells": [
  {
   "cell_type": "markdown",
   "metadata": {},
   "source": [
    "# Exercícios Módulo 2. Funções (Soluções)\n",
    "\n",
    "Considerações a ter em conta:\n",
    "\n",
    "* Guardar este documento com o seguinte formato para entrega: M2_06_nome_apelido1_apelido2\n",
    "* Fazer os exercícios com as ferramentas vistas nas sessões. \n",
    "* Comentar o código\n",
    "* Utilizar nomes de variáveis apropriados, se vai guardar uma nota, chamar a essa variável nota, não n ou x"
   ]
  },
  {
   "cell_type": "markdown",
   "metadata": {},
   "source": [
    "**1) Fazer uma função que devolva a área de um retângulo a partir da sua base e altura.\n",
    "A função chama-se area_retangulo(). Os valores da base e a altura pedem-se ao utilizador.**\n",
    "\n",
    "*Nota: a área de um retângulo obtém-se ao multiplicar a base pela altura.*"
   ]
  },
  {
   "cell_type": "code",
   "execution_count": 1,
   "metadata": {},
   "outputs": [
    {
     "name": "stdout",
     "output_type": "stream",
     "text": [
      "Introduza o valor da base do retângulo:4\n",
      "Introduza o valor da altura do retângulo:5\n",
      "\n",
      "A área do retângulo é 20.0\n"
     ]
    }
   ],
   "source": [
    "# Completar o exercício aqui\n",
    "def area_retangulo(base, altura):\n",
    "    return base * altura\n",
    "\n",
    "base = float(input(\"Introduza o valor da base do retângulo:\"))\n",
    "altura = float(input(\"Introduza o valor da altura do retângulo:\"))\n",
    "print(f\"\\nA área do retângulo é {area_retangulo(base, altura)}\")"
   ]
  },
  {
   "cell_type": "markdown",
   "metadata": {},
   "source": [
    "**2) Fazer uma função que devolva a área de um círculo a partir de um raio.\n",
    "A função chama-se area_circulo(). O valor do raio pede-se ao utilizador:**\n",
    "\n",
    "Nota: a área de um círculo obtém-se ao elevar o raio ao quadrado e multiplicando o resultado pelo número pi. Pode utilizar o valor 3,14159 como pi ou importá-lo do módulo math:\n",
    "```python\n",
    "import math\n",
    "print(math.pi)\n",
    "> 3.1415...\n",
    "```"
   ]
  },
  {
   "cell_type": "code",
   "execution_count": 6,
   "metadata": {},
   "outputs": [
    {
     "name": "stdout",
     "output_type": "stream",
     "text": [
      "Introduza o valor do raio do círculo:5\n",
      "\n",
      "A área do círculo é 78.54\n"
     ]
    }
   ],
   "source": [
    "# Completar o exercício aqui\n",
    "import math\n",
    "\n",
    "def area_circulo(raio):\n",
    "    return raio**2*math.pi\n",
    "\n",
    "raio = float(input(\"Introduza o valor do raio do círculo:\"))\n",
    "print(f\"\\nA área do círculo é {area_circulo(raio):.2f}\")"
   ]
  },
  {
   "cell_type": "markdown",
   "metadata": {},
   "source": [
    "**3)  Fazer uma função que a partir de dois números, que se solicitam por teclado ao utilizador e que se vai chamar relacao(), e cumpra as seguintes condições:**\n",
    "\n",
    "* Se o primeiro número é maior que o segundo, deve devolver 1\n",
    "* Se o primeiro número é menor que o segundo, deve devolver -1\n",
    "* Se ambos números são iguais, deve devolver um 0\n",
    "\n",
    "**Testar a relação entre os números com: '5 e 10', '10 e 5' e '5 e 5'**"
   ]
  },
  {
   "cell_type": "code",
   "execution_count": 10,
   "metadata": {},
   "outputs": [
    {
     "name": "stdout",
     "output_type": "stream",
     "text": [
      "Introduza o primeiro número:5\n",
      "Introduza o segundo número:5\n",
      "0\n"
     ]
    }
   ],
   "source": [
    "# Completar o exercício aqui\n",
    "def relacao(n1,n2):\n",
    "    if n1 == n2:\n",
    "        return 0\n",
    "    elif n1 > n2:\n",
    "        return 1\n",
    "    else:\n",
    "        return -1\n",
    "\n",
    "num1 = float(input(\"Introduza o primeiro número:\"))\n",
    "num2 = float(input(\"Introduza o segundo número:\"))\n",
    "print(relacao(num1,num2))"
   ]
  },
  {
   "cell_type": "markdown",
   "metadata": {},
   "source": [
    "**4) Fazer uma função chamada ler_numero() que solicite e imprima um número do utilizador.  Utiliza esta função (ler_numeros) para pedir ao utilizador 3 números e guardamos estes 3 valores.\n",
    "De seguida, passe estes 3 números como argumento de uma nova função que se chame maior(a,b,c), que deve devolver o maior número:**"
   ]
  },
  {
   "cell_type": "code",
   "execution_count": 41,
   "metadata": {},
   "outputs": [
    {
     "name": "stdout",
     "output_type": "stream",
     "text": [
      "Introduza um número:20\n",
      "20.0\n",
      "Introduza um número:30\n",
      "30.0\n",
      "Introduza um número:10\n",
      "10.0\n",
      "\n",
      "30.0\n"
     ]
    }
   ],
   "source": [
    "# Completar o exercício aqui\n",
    "def ler_numero():\n",
    "    num = float(input(\"Introduza um número:\")) # pede um número e garante que a string seja convertido em tipo numérico\n",
    "    print(num)\n",
    "    return num\n",
    "\n",
    "def maior(a, b, c):\n",
    "    maior = a # atribui o primeiro número como o maior\n",
    "    for num in [a, b, c]:\n",
    "        if num > maior: # caso encontre outro que seja maior este será utilizado como o novo valor de maior número\n",
    "            maior = num\n",
    "    return maior\n",
    "\n",
    "a, b, c = [ler_numero() for n in range(3)] # pedir 3 vezes para o utilizador inserir um número e gerar uma lista dos valores e atribuir a cada uma das variáveis dinamicamente\n",
    "print(f\"\\n{maior(a, b, c)}\")"
   ]
  },
  {
   "cell_type": "markdown",
   "metadata": {},
   "source": [
    "**5) Fazer uma função chamada imc(). Esta função proporciona-nos o estado nutricional de uma  pessoa. É a classificação do seu índice de massa corporal (IMC), segundo a definição:**\n",
    "* Baixo peso:  0 < 18.50\n",
    "* Normal:       entre (18.50, 25.00)\n",
    "* Sobrepeso:  entre (25.00, 30.00)\n",
    "* Obesidade:   ∞  > 30.00  \n",
    " A função irá receber o peso (em quilos) e o tamanho de uma pessoa (em metros com dois valores decimais) do utilizador, na qual se pode calcular o IMC da seguinte forma:\n",
    "\n",
    "*IMC = peso / (altura * altura)*\n",
    "*Classificação: IMC (Kg/m^2)*\n"
   ]
  },
  {
   "cell_type": "code",
   "execution_count": 56,
   "metadata": {},
   "outputs": [
    {
     "name": "stdout",
     "output_type": "stream",
     "text": [
      "Digite o peso:88\n",
      "Digite a altura:1.77\n",
      "\n",
      "IMC: 28.09 Kg/m².\n",
      "Sobrepeso\n",
      "\n",
      "O peso ideal para a sua altura fica entre 57.96 e 78.32.\n"
     ]
    }
   ],
   "source": [
    "# Completar o exercício aqui\n",
    "def imc(peso, altura):\n",
    "    return peso / (altura ** 2)\n",
    "\n",
    "peso = float(input(\"Digite o peso:\"))\n",
    "altura = float(input(\"Digite a altura:\"))\n",
    "imc = imc(peso, altura)\n",
    "print(f\"\\nIMC: {imc:.2f} Kg/m².\")\n",
    "peso_ideal_1 = 18.5 * altura ** 2\n",
    "peso_ideal_2 = 25 * altura ** 2\n",
    "classificacao = {\"Baixo peso\":18.5, \"Normal\":25, \"Sobrepeso\":30, \"Obesidade\":30}\n",
    "if imc < classificacao[\"Baixo peso\"]:\n",
    "    print(list(classificacao.keys())[0])\n",
    "elif imc <= classificacao[\"Normal\"]:\n",
    "    print(list(classificacao.keys())[1])\n",
    "elif imc <= classificacao[\"Sobrepeso\"]:\n",
    "    print(list(classificacao.keys())[2])\n",
    "else:\n",
    "    print(list(classificacao.keys())[3])\n",
    "\n",
    "print(f\"\\nO peso ideal para a sua altura fica entre {peso_ideal_1:.2f} e {peso_ideal_2:.2f}.\")\n",
    "#print(peso_ideal_1)\n",
    "#print(peso_ideal_2)"
   ]
  }
 ],
 "metadata": {
  "anaconda-cloud": {},
  "kernelspec": {
   "display_name": "Python 3 (ipykernel)",
   "language": "python",
   "name": "python3"
  },
  "language_info": {
   "codemirror_mode": {
    "name": "ipython",
    "version": 3
   },
   "file_extension": ".py",
   "mimetype": "text/x-python",
   "name": "python",
   "nbconvert_exporter": "python",
   "pygments_lexer": "ipython3",
   "version": "3.10.6"
  }
 },
 "nbformat": 4,
 "nbformat_minor": 1
}
